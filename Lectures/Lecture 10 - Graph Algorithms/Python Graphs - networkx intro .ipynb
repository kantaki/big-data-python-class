{
 "cells": [
  {
   "cell_type": "markdown",
   "metadata": {
    "collapsed": true
   },
   "source": [
    "\n",
    "\n",
    "Using the graph from figure 10.1 from the textbook (http://infolab.stanford.edu/~ullman/mmds/book.pdf) to demonstrate\n",
    "\n",
    "<img src=\"images/smallsocialgraph.png\">"
   ]
  },
  {
   "cell_type": "code",
   "execution_count": 3,
   "metadata": {
    "collapsed": false
   },
   "outputs": [],
   "source": [
    "#Example Small social newtork as a connection matrix\n",
    "sc1 = ([(0, 1, 1, 0, 0, 0, 0), \n",
    "        (1, 0, 1, 1, 0, 0, 0),\n",
    "        (1, 1, 0, 0, 0, 0, 0),\n",
    "        (0, 1, 0, 0, 1, 1, 1),\n",
    "        (0, 0, 0, 1, 0, 1, 0),\n",
    "        (0, 0, 0, 1, 1, 0, 1),\n",
    "        (0, 0, 0, 1, 0, 1, 0)])"
   ]
  },
  {
   "cell_type": "markdown",
   "metadata": {
    "collapsed": true
   },
   "source": [
    "http://networkx.github.io/documentation/latest/install.html\n",
    "\n",
    "pip install networkx\n",
    "\n",
    "\n",
    "to install networkx into your python modules\n",
    "\n",
    "pip install networkx  --upgrade \n",
    "\n",
    "to upgrade you previously installed version\n",
    "\n",
    "You may have to restart your ipython engine to pick up the new module\n",
    "Test your installation by running the new box locally\n",
    "\n",
    "A full tutorial is available at:\n",
    "http://networkx.github.io/documentation/latest/tutorial/index.html\n",
    "\n",
    "There are other packages for graph manipulation for python:\n",
    "python-igraph, (http://igraph.org/python/#pydoc1)\n",
    "Graph-tool, (https://graph-tool.skewed.de)\n",
    "\n",
    "I picked networkx because it took little effort to install.\n",
    "\n"
   ]
  },
  {
   "cell_type": "code",
   "execution_count": 4,
   "metadata": {
    "collapsed": false
   },
   "outputs": [],
   "source": [
    "import networkx as nx\n",
    "G1 = nx.Graph()\n"
   ]
  },
  {
   "cell_type": "code",
   "execution_count": 5,
   "metadata": {
    "collapsed": false
   },
   "outputs": [
    {
     "data": {
      "text/plain": [
       "['A', 'C', 'B', 'E', 'D', 'G', 'F']"
      ]
     },
     "execution_count": 5,
     "metadata": {},
     "output_type": "execute_result"
    }
   ],
   "source": [
    "G1.add_nodes_from(['A','B','C','D','E','F','G'])\n",
    "G1.nodes()\n"
   ]
  },
  {
   "cell_type": "code",
   "execution_count": 6,
   "metadata": {
    "collapsed": false
   },
   "outputs": [],
   "source": [
    "G1.add_edges_from([('A','B'),('A','C')])\n",
    "G1.add_edges_from([('B','C'),('B','D')])\n",
    "G1.add_edges_from([('D','E'),('D','F'),('D','G')])\n",
    "G1.add_edges_from([('E','F')])\n",
    "G1.add_edges_from([('F','G')])"
   ]
  },
  {
   "cell_type": "code",
   "execution_count": 7,
   "metadata": {
    "collapsed": false
   },
   "outputs": [
    {
     "data": {
      "text/plain": [
       "9"
      ]
     },
     "execution_count": 7,
     "metadata": {},
     "output_type": "execute_result"
    }
   ],
   "source": [
    "G1.number_of_edges()"
   ]
  },
  {
   "cell_type": "code",
   "execution_count": 8,
   "metadata": {
    "collapsed": false
   },
   "outputs": [
    {
     "data": {
      "text/plain": [
       "[('A', 'C'),\n",
       " ('A', 'B'),\n",
       " ('C', 'B'),\n",
       " ('B', 'D'),\n",
       " ('E', 'D'),\n",
       " ('E', 'F'),\n",
       " ('D', 'G'),\n",
       " ('D', 'F'),\n",
       " ('G', 'F')]"
      ]
     },
     "execution_count": 8,
     "metadata": {},
     "output_type": "execute_result"
    }
   ],
   "source": [
    "G1.edges()"
   ]
  },
  {
   "cell_type": "code",
   "execution_count": 9,
   "metadata": {
    "collapsed": false
   },
   "outputs": [
    {
     "data": {
      "text/plain": [
       "['B', 'E', 'G', 'F']"
      ]
     },
     "execution_count": 9,
     "metadata": {},
     "output_type": "execute_result"
    }
   ],
   "source": [
    "G1.neighbors('D')"
   ]
  },
  {
   "cell_type": "code",
   "execution_count": 10,
   "metadata": {
    "collapsed": true
   },
   "outputs": [],
   "source": [
    "import matplotlib.pyplot as plt\n",
    "#drawing the graph\n",
    "%matplotlib inline  \n"
   ]
  },
  {
   "cell_type": "code",
   "execution_count": 14,
   "metadata": {
    "collapsed": false
   },
   "outputs": [
    {
     "data": {
      "image/png": "[encoded data removed]",
      "text/plain": [
       "<matplotlib.figure.Figure at 0xe4f8400>"
      ]
     },
     "metadata": {},
     "output_type": "display_data"
    }
   ],
   "source": [
    "nx.draw(G1)"
   ]
  },
  {
   "cell_type": "code",
   "execution_count": 32,
   "metadata": {
    "collapsed": false
   },
   "outputs": [
    {
     "data": {
      "text/plain": [
       "{'A': <matplotlib.text.Text at 0xe7d20b8>,\n",
       " 'B': <matplotlib.text.Text at 0xe7d2e80>,\n",
       " 'C': <matplotlib.text.Text at 0xe7d2588>,\n",
       " 'D': <matplotlib.text.Text at 0xe4e92b0>,\n",
       " 'E': <matplotlib.text.Text at 0xe4e9128>,\n",
       " 'F': <matplotlib.text.Text at 0xe7c6f98>,\n",
       " 'G': <matplotlib.text.Text at 0xe4e9278>}"
      ]
     },
     "execution_count": 32,
     "metadata": {},
     "output_type": "execute_result"
    },
    {
     "data": {
      "image/png": "[encoded data removed]",
      "text/plain": [
       "<matplotlib.figure.Figure at 0xed0b470>"
      ]
     },
     "metadata": {},
     "output_type": "display_data"
    }
   ],
   "source": [
    "pos=nx.spring_layout(G1)\n",
    "nx.draw(G1,pos,node_color='y', edge_color='r', node_size=600, width=3.0)\n",
    "nx.draw_networkx_labels(G1,pos,color='W',font_size=20,font_family='sans-serif')\n",
    "#https://networkx.github.io/documentation/latest/reference/generated/networkx.drawing.nx_pylab.draw_networkx.html\n",
    "#Some parameters to play with"
   ]
  },
  {
   "cell_type": "markdown",
   "metadata": {},
   "source": [
    "Let's play with some algorithms in class:\n",
    "https://networkx.github.io/documentation/latest/reference/algorithms.html\n",
    "\n",
    "Social Graph analysis algorithms\n",
    "\n",
    "Betweenness:\n",
    "https://networkx.github.io/documentation/latest/reference/algorithms.centrality.html#betweenness\n",
    "\n",
    "EigenVector centrality\n",
    "https://networkx.github.io/documentation/latest/reference/algorithms.centrality.html#eigenvector\n",
    "\n",
    "\n",
    "Clustering per node\n",
    "https://networkx.github.io/documentation/latest/reference/generated/networkx.algorithms.cluster.clustering.html\n",
    "\n",
    "All Shortest Paths\n",
    "https://networkx.github.io/documentation/latest/reference/generated/networkx.algorithms.shortest_paths.generic.all_shortest_paths.html\n",
    "\n",
    "Laplacian matrix\n",
    "https://networkx.github.io/documentation/latest/reference/generated/networkx.linalg.laplacianmatrix.laplacian_matrix.html#networkx.linalg.laplacianmatrix.laplacian_matrix\n",
    "\n",
    "\n",
    "\n",
    "Each of the students pair up and work on demonstrating a networkx algorithm\n",
    "Create a new ipython page and submit it"
   ]
  },
  {
   "cell_type": "code",
   "execution_count": 42,
   "metadata": {
    "collapsed": false
   },
   "outputs": [
    {
     "data": {
      "text/plain": [
       "[['A'],\n",
       " ['C'],\n",
       " ['B'],\n",
       " ['E'],\n",
       " ['D'],\n",
       " ['G'],\n",
       " ['F'],\n",
       " ['A', 'C'],\n",
       " ['A', 'B'],\n",
       " ['C', 'B'],\n",
       " ['B', 'D'],\n",
       " ['E', 'D'],\n",
       " ['E', 'F'],\n",
       " ['D', 'G'],\n",
       " ['D', 'F'],\n",
       " ['G', 'F'],\n",
       " ['A', 'C', 'B'],\n",
       " ['E', 'D', 'F'],\n",
       " ['D', 'G', 'F']]"
      ]
     },
     "execution_count": 42,
     "metadata": {},
     "output_type": "execute_result"
    }
   ],
   "source": [
    "#Enumeration of all cliques\n",
    "list(nx.enumerate_all_cliques(G1))"
   ]
  },
  {
   "cell_type": "code",
   "execution_count": 38,
   "metadata": {
    "collapsed": false
   },
   "outputs": [
    {
     "data": {
      "text/plain": [
       "[['A', 'C', 'B']]"
      ]
     },
     "execution_count": 38,
     "metadata": {},
     "output_type": "execute_result"
    }
   ],
   "source": [
    "list(nx.cliques_containing_node(G1,'A'))"
   ]
  },
  {
   "cell_type": "code",
   "execution_count": 39,
   "metadata": {
    "collapsed": false
   },
   "outputs": [
    {
     "data": {
      "text/plain": [
       "[['D', 'B'], ['D', 'F', 'E'], ['D', 'F', 'G']]"
      ]
     },
     "execution_count": 39,
     "metadata": {},
     "output_type": "execute_result"
    }
   ],
   "source": [
    "list(nx.cliques_containing_node(G1,'D'))"
   ]
  }
 ],
 "metadata": {
  "kernelspec": {
   "display_name": "Python 2",
   "language": "python",
   "name": "python2"
  },
  "language_info": {
   "codemirror_mode": {
    "name": "ipython",
    "version": 2
   },
   "file_extension": ".py",
   "mimetype": "text/x-python",
   "name": "python",
   "nbconvert_exporter": "python",
   "pygments_lexer": "ipython2",
   "version": "2.7.10"
  }
 },
 "nbformat": 4,
 "nbformat_minor": 0
}
