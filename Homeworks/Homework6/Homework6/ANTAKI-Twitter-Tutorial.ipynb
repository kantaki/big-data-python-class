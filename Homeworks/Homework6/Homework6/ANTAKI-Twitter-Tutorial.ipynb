{
 "cells": [
  {
   "cell_type": "markdown",
   "metadata": {
    "slideshow": {
     "slide_type": "slide"
    }
   },
   "source": [
    "## Twitter Streams - Filters - Mining - Sentiment - Trends\n",
    "Extracting two days worth of tweets using tweepy Twitter a Streaming API based on keyWords\n",
    "<li/>Phone Models talked about around the day the iphoneX  was released \n",
    "<ol>\n",
    "<ul>\n",
    "<li/>iPhone (x)\n",
    "<li/>Pixel (Google)\n",
    "<li/>Nokia  (2)\n",
    "<li/>Samsung (Galaxy)\n",
    "</ul>\n",
    "</ol>\n",
    "Look for the influencers -those who have the most followers- \n",
    "\n",
    "<li/>The streams are geo localized and restricted to the New York area, more scpecifically the tweets are collected from Manhattan.\n",
    "\n",
    "<li/>This notebook dicusses:\n",
    "<ol>\n",
    "<ul>\n",
    "<li/>twitter API\n",
    "<li/>Bloom Filters\n",
    "<li/>Tweet Mining\n",
    "<li/>Sentiment Analyses\n",
    "<li/>Top Hashtags\n",
    "</ul>\n",
    "</ol>"
   ]
  },
  {
   "cell_type": "markdown",
   "metadata": {
    "slideshow": {
     "slide_type": "slide"
    }
   },
   "source": [
    "## Getting Twitter API Keys\n",
    "Access the Twitter Streaming API by registering an application to get an: \n",
    "\n",
    "<ul>\n",
    "<li/>API key\n",
    "<li/>API secret\n",
    "<li/>Access token\n",
    "<li/>Access token secret. \n",
    "</ul>\n"
   ]
  },
  {
   "cell_type": "markdown",
   "metadata": {},
   "source": [
    "## Connecting to Twitter Streaming using tweepy\n",
    "\n",
    "Using tweepy  - pip install tweepy\n",
    "\n",
    "I have used Keywords to filter the strem:\n",
    "list 1 : contains the different phone models \n",
    "\n",
    "I chose to limit the search to the nyc area - manhattan in particular\n",
    "using a geo-box tool :\n",
    "http://boundingbox.klokantech.com/\n",
    "I got the coordinates of the manhttan island by drawing the area I wanted to filter\n",
    "and added in the stream filter as a list for the 'locations ='\n",
    "you need four data points for a bounding box \n",
    "\n",
    "I limited the language of the tweets selected to english using \" lang = 'eng' \""
   ]
  },
  {
   "cell_type": "code",
   "execution_count": null,
   "metadata": {
    "collapsed": true
   },
   "outputs": [],
   "source": [
    "%%writefile twitter_streaming_phones.py\n",
    "# %load code/twitter_streaming.py\n",
    "#Import the necessary methods from tweepy library\n",
    "from tweepy.streaming import StreamListener\n",
    "from tweepy import OAuthHandler\n",
    "from tweepy import Stream\n",
    "\n",
    "#Variables that contains the user credentials to access Twitter API \n",
    "access_token = \"782193883786522624-7kT582Uhb8ZpRXsfhspYBf1HlQRYKTF\"\n",
    "access_token_secret = \"rHSomVYGn6WqFeyrzaaoET0C0JIGyszEf2todq8yUGj4b\"\n",
    "consumer_key = \"ZoqwB9CD8hbbzpY9uGTM98jsf\"\n",
    "consumer_secret = \"IsSjto7UIRwukj8BH4IqwAHAhsm9Pa2ptDzrwp1NWAEGaIqgwE\"\n",
    "\n",
    "#This is a basic listener that just prints received tweets to stdout.\n",
    "class StdOutListener(StreamListener):\n",
    "\n",
    "    def on_data(self, data):\n",
    "        print data\n",
    "        return True\n",
    "\n",
    "    def on_error(self, status):\n",
    "        print status\n",
    "\n",
    "\n",
    "if __name__ == '__main__':\n",
    "\n",
    "    #This handles Twitter authetification and the connection to Twitter Streaming API\n",
    "    l = StdOutListener()\n",
    "    auth = OAuthHandler(consumer_key, consumer_secret)\n",
    "    auth.set_access_token(access_token, access_token_secret)\n",
    "    stream = Stream(auth, l)\n",
    "    \n",
    "    #This line filter Twitter Streams to capture data by the keywords\n",
    "    stream.filter(track=['Pixel', 'iPhone', 'Nokia', 'Samsung'], locations =[-74.0337066818,40.6918846491,-73.9076385414,40.8778028027], languages=[\"en\"])"
   ]
  },
  {
   "cell_type": "markdown",
   "metadata": {},
   "source": [
    "### Collecting Tweets and saving them in a text file\n",
    "\n",
    "+ Tweets collected around the day of the release of the iphonex in NYC (11/04-11/25) written in 2 files"
   ]
  },
  {
   "cell_type": "code",
   "execution_count": null,
   "metadata": {
    "collapsed": true
   },
   "outputs": [],
   "source": [
    "import sys\n",
    "sys.stdout = open('tweets_phones_NY_allphones.txt', 'a')\n",
    "#sys.stdout = open('tweets_phones_NY_allphones1.txt', 'a')\n",
    "%run twitter_streaming_phones.py"
   ]
  },
  {
   "cell_type": "markdown",
   "metadata": {},
   "source": [
    "### Creating DataFrame from JSON "
   ]
  },
  {
   "cell_type": "code",
   "execution_count": 1,
   "metadata": {},
   "outputs": [
    {
     "name": "stdout",
     "output_type": "stream",
     "text": [
      "405134\n"
     ]
    }
   ],
   "source": [
    "import json\n",
    "import pandas as pd\n",
    "tweets_data_path = 'tweets_phones_NY_allphones.txt'\n",
    "\n",
    "tweets_data = []\n",
    "tweets_file = open(tweets_data_path, \"r\")\n",
    "for line in tweets_file:\n",
    "    try:\n",
    "        t = json.loads(line)\n",
    "        if (type(t) == dict):\n",
    "            tweet = t\n",
    "            tweets_data.append(tweet)\n",
    "    except:\n",
    "        continue\n",
    "        \n",
    "print len(tweets_data) ##405134 tweets collected - takes some time to load"
   ]
  },
  {
   "cell_type": "markdown",
   "metadata": {},
   "source": [
    "## Creating the DataFrame\n",
    "+ When we are dealng with a big data sets, errors occurs where missing values will throw exceptions\n",
    "+ Dealing with these cases by taking care of the missing values while filling the dataframe with 'None'"
   ]
  },
  {
   "cell_type": "code",
   "execution_count": 2,
   "metadata": {
    "collapsed": true
   },
   "outputs": [],
   "source": [
    "tweets = pd.DataFrame()\n",
    "\n",
    "tweets['text'] = [tweet.get('text', None) for tweet in tweets_data]\n",
    "tweets['created_at'] = [tweet.get('created_at',None) for tweet in tweets_data]\n",
    "tweets['username'] = [tweet.get('user').get('screen_name', '') if tweet.get('user', None) != None else None for tweet in tweets_data]\n",
    "tweets['followers_count'] = [tweet.get('user').get('followers_count') if tweet.get('user', None) != None else None for tweet in tweets_data]"
   ]
  },
  {
   "cell_type": "code",
   "execution_count": 3,
   "metadata": {},
   "outputs": [
    {
     "data": {
      "text/html": [
       "<div>\n",
       "<style>\n",
       "    .dataframe thead tr:only-child th {\n",
       "        text-align: right;\n",
       "    }\n",
       "\n",
       "    .dataframe thead th {\n",
       "        text-align: left;\n",
       "    }\n",
       "\n",
       "    .dataframe tbody tr th {\n",
       "        vertical-align: top;\n",
       "    }\n",
       "</style>\n",
       "<table border=\"1\" class=\"dataframe\">\n",
       "  <thead>\n",
       "    <tr style=\"text-align: right;\">\n",
       "      <th></th>\n",
       "      <th>text</th>\n",
       "      <th>created_at</th>\n",
       "      <th>username</th>\n",
       "      <th>followers_count</th>\n",
       "    </tr>\n",
       "  </thead>\n",
       "  <tbody>\n",
       "    <tr>\n",
       "      <th>0</th>\n",
       "      <td>RT @ILoveNadal1: Top investment fund manager f...</td>\n",
       "      <td>Sat Nov 04 00:48:56 +0000 2017</td>\n",
       "      <td>ffmicol</td>\n",
       "      <td>3668</td>\n",
       "    </tr>\n",
       "    <tr>\n",
       "      <th>1</th>\n",
       "      <td>RT @l0VELEXXX_: apple need to get it together....</td>\n",
       "      <td>Sat Nov 04 00:48:56 +0000 2017</td>\n",
       "      <td>tasiah_lawson</td>\n",
       "      <td>1866</td>\n",
       "    </tr>\n",
       "  </tbody>\n",
       "</table>\n",
       "</div>"
      ],
      "text/plain": [
       "                                                text  \\\n",
       "0  RT @ILoveNadal1: Top investment fund manager f...   \n",
       "1  RT @l0VELEXXX_: apple need to get it together....   \n",
       "\n",
       "                       created_at       username followers_count  \n",
       "0  Sat Nov 04 00:48:56 +0000 2017        ffmicol            3668  \n",
       "1  Sat Nov 04 00:48:56 +0000 2017  tasiah_lawson            1866  "
      ]
     },
     "execution_count": 3,
     "metadata": {},
     "output_type": "execute_result"
    }
   ],
   "source": [
    "tweets.head(2)"
   ]
  },
  {
   "cell_type": "code",
   "execution_count": 4,
   "metadata": {},
   "outputs": [
    {
     "data": {
      "text/plain": [
       "text                408\n",
       "created_at          370\n",
       "username            518\n",
       "followers_count    1004\n",
       "dtype: int64"
      ]
     },
     "execution_count": 4,
     "metadata": {},
     "output_type": "execute_result"
    }
   ],
   "source": [
    "tweets.apply(lambda x: sum(x.isnull()),axis=0)\n",
    "## count of missing values in each colum"
   ]
  },
  {
   "cell_type": "markdown",
   "metadata": {},
   "source": [
    "### remove null rows"
   ]
  },
  {
   "cell_type": "code",
   "execution_count": 6,
   "metadata": {},
   "outputs": [
    {
     "data": {
      "text/plain": [
       "text               0\n",
       "created_at         0\n",
       "username           0\n",
       "followers_count    0\n",
       "dtype: int64"
      ]
     },
     "execution_count": 6,
     "metadata": {},
     "output_type": "execute_result"
    }
   ],
   "source": [
    "tweets = tweets[tweets.text.notnull()]\n",
    "tweets = tweets[tweets.followers_count.notnull()]\n",
    "tweets = tweets[tweets.created_at.notnull()]\n",
    "## Test to see if they are gone\n",
    "tweets.apply(lambda x: sum(x.isnull()),axis=0)"
   ]
  },
  {
   "cell_type": "markdown",
   "metadata": {},
   "source": [
    "# Bloom filter in python\n",
    "#### A Bloom filter is a space-efficient probabilistic data structure, conceived by Burton Howard Bloom in 1970, that is used to test whether an element is a member of a set\n",
    "##### install pip pybloom\n",
    "+ documentation available at https://github.com/jaybaird/python-bloomfilter/"
   ]
  },
  {
   "cell_type": "code",
   "execution_count": 9,
   "metadata": {
    "collapsed": true
   },
   "outputs": [],
   "source": [
    "from pybloom import BloomFilter\n",
    "\n",
    "# create filter to store and set a (high) capacity\n",
    "f = BloomFilter(capacity=100000, error_rate=0.001)"
   ]
  },
  {
   "cell_type": "markdown",
   "metadata": {},
   "source": [
    "+ populating the data structure with numbers from 0-9 using the add method"
   ]
  },
  {
   "cell_type": "code",
   "execution_count": 10,
   "metadata": {},
   "outputs": [
    {
     "name": "stdout",
     "output_type": "stream",
     "text": [
      "[False, False, False, False, False, False, False, False, False, False]\n"
     ]
    }
   ],
   "source": [
    "print [f.add(x) for x in range(10)]\n",
    "#** output > [False, False, False, False, False, False, False, False, False, False]"
   ]
  },
  {
   "cell_type": "markdown",
   "metadata": {},
   "source": [
    "+ Testing to see if the numbers are in the datadtructure"
   ]
  },
  {
   "cell_type": "code",
   "execution_count": 11,
   "metadata": {},
   "outputs": [
    {
     "name": "stdout",
     "output_type": "stream",
     "text": [
      "True\n",
      "False\n",
      "True\n"
     ]
    }
   ],
   "source": [
    "print all([(x in f) for x in range(10)])\n",
    "\n",
    "#** output > True\n",
    "\n",
    "# unique testing\n",
    "print 10 in f\n",
    "\n",
    "#** output > False\n",
    "\n",
    "print 5 in f\n",
    "\n",
    "#** output > True"
   ]
  },
  {
   "cell_type": "markdown",
   "metadata": {},
   "source": [
    "### BloomFilters on our 2 days worth of tweets data\n",
    "\n",
    "#### Removing StopWords and links"
   ]
  },
  {
   "cell_type": "code",
   "execution_count": 12,
   "metadata": {
    "collapsed": true
   },
   "outputs": [],
   "source": [
    "from nltk.corpus import stopwords\n",
    "import re\n",
    "\n",
    "# find links \n",
    "def extract_link(text):\n",
    "    regex = r'(https?://[\\d\\w\\./\\-\\_\\?]+)'\n",
    "    try:\n",
    "        match = re.search(regex, text)\n",
    "        if match:\n",
    "            return match.group()\n",
    "        else:\n",
    "            return ''\n",
    "    except:\n",
    "        return '-'\n",
    "\n",
    "# remove links\n",
    "def remove_links(text):\n",
    "    return (re.sub(extract_link(text), '', text))\n",
    "\n",
    "# remove stop words and links\n",
    "def preprocess2(raw_text):\n",
    "    raw_text = raw_text.encode('utf-8')\n",
    "    stopword_set = set(stopwords.words(\"english\")) # to remove words in this set of stop words\n",
    "    raw_text = remove_links(raw_text)\n",
    "    return \" \".join([i for i in re.sub(r'[^a-zA-Z\\s]', \"\", raw_text).lower().split() if i not in stopword_set])\n"
   ]
  },
  {
   "cell_type": "code",
   "execution_count": 13,
   "metadata": {},
   "outputs": [
    {
     "data": {
      "text/html": [
       "<div>\n",
       "<style>\n",
       "    .dataframe thead tr:only-child th {\n",
       "        text-align: right;\n",
       "    }\n",
       "\n",
       "    .dataframe thead th {\n",
       "        text-align: left;\n",
       "    }\n",
       "\n",
       "    .dataframe tbody tr th {\n",
       "        vertical-align: top;\n",
       "    }\n",
       "</style>\n",
       "<table border=\"1\" class=\"dataframe\">\n",
       "  <thead>\n",
       "    <tr style=\"text-align: right;\">\n",
       "      <th></th>\n",
       "      <th>text</th>\n",
       "      <th>created_at</th>\n",
       "      <th>username</th>\n",
       "      <th>followers_count</th>\n",
       "      <th>processed_text</th>\n",
       "    </tr>\n",
       "  </thead>\n",
       "  <tbody>\n",
       "    <tr>\n",
       "      <th>0</th>\n",
       "      <td>RT @ILoveNadal1: Top investment fund manager f...</td>\n",
       "      <td>Sat Nov 04 00:48:56 +0000 2017</td>\n",
       "      <td>ffmicol</td>\n",
       "      <td>3668</td>\n",
       "      <td>rt ilovenadal top investment fund manager geor...</td>\n",
       "    </tr>\n",
       "    <tr>\n",
       "      <th>1</th>\n",
       "      <td>RT @l0VELEXXX_: apple need to get it together....</td>\n",
       "      <td>Sat Nov 04 00:48:56 +0000 2017</td>\n",
       "      <td>tasiah_lawson</td>\n",
       "      <td>1866</td>\n",
       "      <td>rt lvelexxx apple need get together still seei...</td>\n",
       "    </tr>\n",
       "    <tr>\n",
       "      <th>2</th>\n",
       "      <td>Iphone X 😍😍😍</td>\n",
       "      <td>Sat Nov 04 00:48:56 +0000 2017</td>\n",
       "      <td>maurenggg</td>\n",
       "      <td>453</td>\n",
       "      <td>iphone x</td>\n",
       "    </tr>\n",
       "    <tr>\n",
       "      <th>3</th>\n",
       "      <td>RT @GemmaAnneStyles: It’s Friday night and our...</td>\n",
       "      <td>Sat Nov 04 00:48:56 +0000 2017</td>\n",
       "      <td>FerHiOopsLS</td>\n",
       "      <td>81</td>\n",
       "      <td>rt gemmaannestyles friday night flat smells li...</td>\n",
       "    </tr>\n",
       "    <tr>\n",
       "      <th>4</th>\n",
       "      <td>RT @Phil_Lewis_: I hope they find those 3 phon...</td>\n",
       "      <td>Sat Nov 04 00:48:57 +0000 2017</td>\n",
       "      <td>_amirahmad1</td>\n",
       "      <td>240</td>\n",
       "      <td>rt phillewis hope find phones</td>\n",
       "    </tr>\n",
       "  </tbody>\n",
       "</table>\n",
       "</div>"
      ],
      "text/plain": [
       "                                                text  \\\n",
       "0  RT @ILoveNadal1: Top investment fund manager f...   \n",
       "1  RT @l0VELEXXX_: apple need to get it together....   \n",
       "2                                    Iphone X 😍😍😍   \n",
       "3  RT @GemmaAnneStyles: It’s Friday night and our...   \n",
       "4  RT @Phil_Lewis_: I hope they find those 3 phon...   \n",
       "\n",
       "                       created_at       username followers_count  \\\n",
       "0  Sat Nov 04 00:48:56 +0000 2017        ffmicol            3668   \n",
       "1  Sat Nov 04 00:48:56 +0000 2017  tasiah_lawson            1866   \n",
       "2  Sat Nov 04 00:48:56 +0000 2017      maurenggg             453   \n",
       "3  Sat Nov 04 00:48:56 +0000 2017    FerHiOopsLS              81   \n",
       "4  Sat Nov 04 00:48:57 +0000 2017    _amirahmad1             240   \n",
       "\n",
       "                                      processed_text  \n",
       "0  rt ilovenadal top investment fund manager geor...  \n",
       "1  rt lvelexxx apple need get together still seei...  \n",
       "2                                           iphone x  \n",
       "3  rt gemmaannestyles friday night flat smells li...  \n",
       "4                      rt phillewis hope find phones  "
      ]
     },
     "execution_count": 13,
     "metadata": {},
     "output_type": "execute_result"
    }
   ],
   "source": [
    "tweets['processed_text'] = [preprocess2(tweet) for tweet in tweets['text']]\n",
    "tweets.head(5)"
   ]
  },
  {
   "cell_type": "markdown",
   "metadata": {},
   "source": [
    "### Training the bloom filter on the tweets collected\n",
    "+ Very fast data structure"
   ]
  },
  {
   "cell_type": "code",
   "execution_count": 14,
   "metadata": {
    "collapsed": true
   },
   "outputs": [],
   "source": [
    "from pybloom import BloomFilter\n",
    "\n",
    "bloom = BloomFilter(capacity=10000000, error_rate=0.001)\n",
    "tweets['filter'] = tweets['processed_text'].apply(lambda tweet: bloom.add(tweet), tweet)"
   ]
  },
  {
   "cell_type": "code",
   "execution_count": 22,
   "metadata": {},
   "outputs": [
    {
     "data": {
      "text/html": [
       "<div>\n",
       "<style>\n",
       "    .dataframe thead tr:only-child th {\n",
       "        text-align: right;\n",
       "    }\n",
       "\n",
       "    .dataframe thead th {\n",
       "        text-align: left;\n",
       "    }\n",
       "\n",
       "    .dataframe tbody tr th {\n",
       "        vertical-align: top;\n",
       "    }\n",
       "</style>\n",
       "<table border=\"1\" class=\"dataframe\">\n",
       "  <thead>\n",
       "    <tr style=\"text-align: right;\">\n",
       "      <th></th>\n",
       "      <th>text</th>\n",
       "      <th>created_at</th>\n",
       "      <th>username</th>\n",
       "      <th>followers_count</th>\n",
       "      <th>processed_text</th>\n",
       "      <th>filter</th>\n",
       "    </tr>\n",
       "  </thead>\n",
       "  <tbody>\n",
       "    <tr>\n",
       "      <th>0</th>\n",
       "      <td>RT @ILoveNadal1: Top investment fund manager f...</td>\n",
       "      <td>Sat Nov 04 00:48:56 +0000 2017</td>\n",
       "      <td>ffmicol</td>\n",
       "      <td>3668</td>\n",
       "      <td>rt ilovenadal top investment fund manager geor...</td>\n",
       "      <td>False</td>\n",
       "    </tr>\n",
       "    <tr>\n",
       "      <th>1</th>\n",
       "      <td>RT @l0VELEXXX_: apple need to get it together....</td>\n",
       "      <td>Sat Nov 04 00:48:56 +0000 2017</td>\n",
       "      <td>tasiah_lawson</td>\n",
       "      <td>1866</td>\n",
       "      <td>rt lvelexxx apple need get together still seei...</td>\n",
       "      <td>False</td>\n",
       "    </tr>\n",
       "    <tr>\n",
       "      <th>2</th>\n",
       "      <td>Iphone X 😍😍😍</td>\n",
       "      <td>Sat Nov 04 00:48:56 +0000 2017</td>\n",
       "      <td>maurenggg</td>\n",
       "      <td>453</td>\n",
       "      <td>iphone x</td>\n",
       "      <td>False</td>\n",
       "    </tr>\n",
       "    <tr>\n",
       "      <th>3</th>\n",
       "      <td>RT @GemmaAnneStyles: It’s Friday night and our...</td>\n",
       "      <td>Sat Nov 04 00:48:56 +0000 2017</td>\n",
       "      <td>FerHiOopsLS</td>\n",
       "      <td>81</td>\n",
       "      <td>rt gemmaannestyles friday night flat smells li...</td>\n",
       "      <td>False</td>\n",
       "    </tr>\n",
       "    <tr>\n",
       "      <th>4</th>\n",
       "      <td>RT @Phil_Lewis_: I hope they find those 3 phon...</td>\n",
       "      <td>Sat Nov 04 00:48:57 +0000 2017</td>\n",
       "      <td>_amirahmad1</td>\n",
       "      <td>240</td>\n",
       "      <td>rt phillewis hope find phones</td>\n",
       "      <td>False</td>\n",
       "    </tr>\n",
       "  </tbody>\n",
       "</table>\n",
       "</div>"
      ],
      "text/plain": [
       "                                                text  \\\n",
       "0  RT @ILoveNadal1: Top investment fund manager f...   \n",
       "1  RT @l0VELEXXX_: apple need to get it together....   \n",
       "2                                    Iphone X 😍😍😍   \n",
       "3  RT @GemmaAnneStyles: It’s Friday night and our...   \n",
       "4  RT @Phil_Lewis_: I hope they find those 3 phon...   \n",
       "\n",
       "                       created_at       username followers_count  \\\n",
       "0  Sat Nov 04 00:48:56 +0000 2017        ffmicol            3668   \n",
       "1  Sat Nov 04 00:48:56 +0000 2017  tasiah_lawson            1866   \n",
       "2  Sat Nov 04 00:48:56 +0000 2017      maurenggg             453   \n",
       "3  Sat Nov 04 00:48:56 +0000 2017    FerHiOopsLS              81   \n",
       "4  Sat Nov 04 00:48:57 +0000 2017    _amirahmad1             240   \n",
       "\n",
       "                                      processed_text  filter  \n",
       "0  rt ilovenadal top investment fund manager geor...   False  \n",
       "1  rt lvelexxx apple need get together still seei...   False  \n",
       "2                                           iphone x   False  \n",
       "3  rt gemmaannestyles friday night flat smells li...   False  \n",
       "4                      rt phillewis hope find phones   False  "
      ]
     },
     "execution_count": 22,
     "metadata": {},
     "output_type": "execute_result"
    }
   ],
   "source": [
    "tweets.head(5)"
   ]
  },
  {
   "cell_type": "markdown",
   "metadata": {},
   "source": [
    "#### Get the tweets collected from different text file (collected roughly concurrently with the first stream)"
   ]
  },
  {
   "cell_type": "code",
   "execution_count": null,
   "metadata": {
    "collapsed": true
   },
   "outputs": [],
   "source": [
    "tweets_data_path_2 = 'tweets_phones_NY_allphones1.txt'\n",
    "\n",
    "tweets_data_2 = []\n",
    "tweets_file_2 = open(tweets_data_path_2, \"r\")\n",
    "for line in tweets_file_2:\n",
    "    try:\n",
    "        t_2 = json.loads(line)\n",
    "        if (type(t_2) == dict):\n",
    "            tweet_2 = t_2\n",
    "            tweets_data_2.append(tweet_2)\n",
    "    except:\n",
    "        continue"
   ]
  },
  {
   "cell_type": "markdown",
   "metadata": {},
   "source": [
    "+ data frame get text only to test bloom filter"
   ]
  },
  {
   "cell_type": "code",
   "execution_count": 218,
   "metadata": {},
   "outputs": [
    {
     "data": {
      "text/html": [
       "<div>\n",
       "<style>\n",
       "    .dataframe thead tr:only-child th {\n",
       "        text-align: right;\n",
       "    }\n",
       "\n",
       "    .dataframe thead th {\n",
       "        text-align: left;\n",
       "    }\n",
       "\n",
       "    .dataframe tbody tr th {\n",
       "        vertical-align: top;\n",
       "    }\n",
       "</style>\n",
       "<table border=\"1\" class=\"dataframe\">\n",
       "  <thead>\n",
       "    <tr style=\"text-align: right;\">\n",
       "      <th></th>\n",
       "      <th>text</th>\n",
       "    </tr>\n",
       "  </thead>\n",
       "  <tbody>\n",
       "    <tr>\n",
       "      <th>0</th>\n",
       "      <td>If you're looking for work in #Folsom, NJ, che...</td>\n",
       "    </tr>\n",
       "    <tr>\n",
       "      <th>1</th>\n",
       "      <td>Incredible https://t.co/WYTpHmykXu</td>\n",
       "    </tr>\n",
       "    <tr>\n",
       "      <th>2</th>\n",
       "      <td>Find him https://t.co/iFa1YHUB0R</td>\n",
       "    </tr>\n",
       "    <tr>\n",
       "      <th>3</th>\n",
       "      <td>it’s ok bruh, sometimes our girl puts us over ...</td>\n",
       "    </tr>\n",
       "    <tr>\n",
       "      <th>4</th>\n",
       "      <td>RT @cloutboyjojo: now it’s your iPhone ex http...</td>\n",
       "    </tr>\n",
       "  </tbody>\n",
       "</table>\n",
       "</div>"
      ],
      "text/plain": [
       "                                                text\n",
       "0  If you're looking for work in #Folsom, NJ, che...\n",
       "1                 Incredible https://t.co/WYTpHmykXu\n",
       "2                   Find him https://t.co/iFa1YHUB0R\n",
       "3  it’s ok bruh, sometimes our girl puts us over ...\n",
       "4  RT @cloutboyjojo: now it’s your iPhone ex http..."
      ]
     },
     "execution_count": 218,
     "metadata": {},
     "output_type": "execute_result"
    }
   ],
   "source": [
    "tweets_2 = pd.DataFrame()\n",
    "\n",
    "tweets_2['text'] = [tweet_2.get('text', None) for tweet_2 in tweets_data_2]\n",
    "\n",
    "tweets_2.head(5)"
   ]
  },
  {
   "cell_type": "markdown",
   "metadata": {},
   "source": [
    "#### prepocess remove stop words and links"
   ]
  },
  {
   "cell_type": "code",
   "execution_count": 262,
   "metadata": {},
   "outputs": [
    {
     "data": {
      "text/html": [
       "<div>\n",
       "<style>\n",
       "    .dataframe thead tr:only-child th {\n",
       "        text-align: right;\n",
       "    }\n",
       "\n",
       "    .dataframe thead th {\n",
       "        text-align: left;\n",
       "    }\n",
       "\n",
       "    .dataframe tbody tr th {\n",
       "        vertical-align: top;\n",
       "    }\n",
       "</style>\n",
       "<table border=\"1\" class=\"dataframe\">\n",
       "  <thead>\n",
       "    <tr style=\"text-align: right;\">\n",
       "      <th></th>\n",
       "      <th>text</th>\n",
       "      <th>processed_text</th>\n",
       "    </tr>\n",
       "  </thead>\n",
       "  <tbody>\n",
       "    <tr>\n",
       "      <th>0</th>\n",
       "      <td>If you're looking for work in #Folsom, NJ, che...</td>\n",
       "      <td>youre looking work folsom nj check job labor h...</td>\n",
       "    </tr>\n",
       "    <tr>\n",
       "      <th>1</th>\n",
       "      <td>Incredible https://t.co/WYTpHmykXu</td>\n",
       "      <td>incredible</td>\n",
       "    </tr>\n",
       "    <tr>\n",
       "      <th>2</th>\n",
       "      <td>Find him https://t.co/iFa1YHUB0R</td>\n",
       "      <td>find</td>\n",
       "    </tr>\n",
       "    <tr>\n",
       "      <th>3</th>\n",
       "      <td>it’s ok bruh, sometimes our girl puts us over ...</td>\n",
       "      <td>ok bruh sometimes girl puts us top</td>\n",
       "    </tr>\n",
       "    <tr>\n",
       "      <th>4</th>\n",
       "      <td>RT @cloutboyjojo: now it’s your iPhone ex http...</td>\n",
       "      <td>rt cloutboyjojo iphone ex</td>\n",
       "    </tr>\n",
       "  </tbody>\n",
       "</table>\n",
       "</div>"
      ],
      "text/plain": [
       "                                                text  \\\n",
       "0  If you're looking for work in #Folsom, NJ, che...   \n",
       "1                 Incredible https://t.co/WYTpHmykXu   \n",
       "2                   Find him https://t.co/iFa1YHUB0R   \n",
       "3  it’s ok bruh, sometimes our girl puts us over ...   \n",
       "4  RT @cloutboyjojo: now it’s your iPhone ex http...   \n",
       "\n",
       "                                      processed_text  \n",
       "0  youre looking work folsom nj check job labor h...  \n",
       "1                                         incredible  \n",
       "2                                               find  \n",
       "3                 ok bruh sometimes girl puts us top  \n",
       "4                          rt cloutboyjojo iphone ex  "
      ]
     },
     "execution_count": 262,
     "metadata": {},
     "output_type": "execute_result"
    }
   ],
   "source": [
    "#Remove nulls\n",
    "tweets_2 = tweets[tweets.text.notnull()]\n",
    "\n",
    "## preorocess text\n",
    "tweets_2['processed_text'] = [preprocess2(tweet_2) for tweet_2 in tweets_2['text']]\n",
    "tweets_2.head(5)"
   ]
  },
  {
   "cell_type": "markdown",
   "metadata": {},
   "source": [
    "### Apply the bloom filter on this new data set"
   ]
  },
  {
   "cell_type": "code",
   "execution_count": 266,
   "metadata": {},
   "outputs": [
    {
     "data": {
      "text/html": [
       "<div>\n",
       "<style>\n",
       "    .dataframe thead tr:only-child th {\n",
       "        text-align: right;\n",
       "    }\n",
       "\n",
       "    .dataframe thead th {\n",
       "        text-align: left;\n",
       "    }\n",
       "\n",
       "    .dataframe tbody tr th {\n",
       "        vertical-align: top;\n",
       "    }\n",
       "</style>\n",
       "<table border=\"1\" class=\"dataframe\">\n",
       "  <thead>\n",
       "    <tr style=\"text-align: right;\">\n",
       "      <th></th>\n",
       "      <th>text</th>\n",
       "      <th>processed_text</th>\n",
       "      <th>filter</th>\n",
       "    </tr>\n",
       "  </thead>\n",
       "  <tbody>\n",
       "    <tr>\n",
       "      <th>0</th>\n",
       "      <td>If you're looking for work in #Folsom, NJ, che...</td>\n",
       "      <td>youre looking work folsom nj check job labor h...</td>\n",
       "      <td>False</td>\n",
       "    </tr>\n",
       "    <tr>\n",
       "      <th>1</th>\n",
       "      <td>Incredible https://t.co/WYTpHmykXu</td>\n",
       "      <td>incredible</td>\n",
       "      <td>True</td>\n",
       "    </tr>\n",
       "    <tr>\n",
       "      <th>2</th>\n",
       "      <td>Find him https://t.co/iFa1YHUB0R</td>\n",
       "      <td>find</td>\n",
       "      <td>False</td>\n",
       "    </tr>\n",
       "    <tr>\n",
       "      <th>3</th>\n",
       "      <td>it’s ok bruh, sometimes our girl puts us over ...</td>\n",
       "      <td>ok bruh sometimes girl puts us top</td>\n",
       "      <td>False</td>\n",
       "    </tr>\n",
       "    <tr>\n",
       "      <th>4</th>\n",
       "      <td>RT @cloutboyjojo: now it’s your iPhone ex http...</td>\n",
       "      <td>rt cloutboyjojo iphone ex</td>\n",
       "      <td>True</td>\n",
       "    </tr>\n",
       "  </tbody>\n",
       "</table>\n",
       "</div>"
      ],
      "text/plain": [
       "                                                text  \\\n",
       "0  If you're looking for work in #Folsom, NJ, che...   \n",
       "1                 Incredible https://t.co/WYTpHmykXu   \n",
       "2                   Find him https://t.co/iFa1YHUB0R   \n",
       "3  it’s ok bruh, sometimes our girl puts us over ...   \n",
       "4  RT @cloutboyjojo: now it’s your iPhone ex http...   \n",
       "\n",
       "                                      processed_text  filter  \n",
       "0  youre looking work folsom nj check job labor h...   False  \n",
       "1                                         incredible    True  \n",
       "2                                               find   False  \n",
       "3                 ok bruh sometimes girl puts us top   False  \n",
       "4                          rt cloutboyjojo iphone ex    True  "
      ]
     },
     "execution_count": 266,
     "metadata": {},
     "output_type": "execute_result"
    }
   ],
   "source": [
    "tweets_2['filter'] = tweets_2['processed_text'].apply(lambda tweet_2: bloom.add(tweet_2), tweet_2)\n",
    "tweets_2.head(5)"
   ]
  },
  {
   "cell_type": "markdown",
   "metadata": {},
   "source": [
    "## Result of matched to unmatched tweets"
   ]
  },
  {
   "cell_type": "code",
   "execution_count": 271,
   "metadata": {},
   "outputs": [
    {
     "data": {
      "text/plain": [
       "filter\n",
       "False       274\n",
       "True     170315\n",
       "dtype: int64"
      ]
     },
     "execution_count": 271,
     "metadata": {},
     "output_type": "execute_result"
    }
   ],
   "source": [
    "filtered_tweets = tweets_2.groupby(['filter'])\n",
    "filtered_tweets.size()"
   ]
  },
  {
   "cell_type": "markdown",
   "metadata": {},
   "source": [
    "### Ploting Results"
   ]
  },
  {
   "cell_type": "code",
   "execution_count": 274,
   "metadata": {},
   "outputs": [
    {
     "data": {
      "image/png": "[encoded data removed]",
      "text/plain": [
       "<matplotlib.figure.Figure at 0x686068908>"
      ]
     },
     "metadata": {},
     "output_type": "display_data"
    }
   ],
   "source": [
    "result = [False, True]\n",
    "numbers = [np.log(filtered_tweets.size()[0]) , np.log(filtered_tweets.size()[1]) ] \n",
    "x_pos = list(range(len(result)))\n",
    "width = 0.8\n",
    "fig, ax = plt.subplots()\n",
    "plt.bar(x_pos, numbers, width, alpha=1, color='b')\n",
    "\n",
    "# Setting axis labels and ticks\n",
    "ax.set_ylabel('Log', fontsize=15)\n",
    "ax.set_title('True/False Tweet in Bloom Filter', fontsize=10, fontweight='bold')\n",
    "ax.set_xticks([p + 0.4 * width for p in x_pos])\n",
    "ax.set_xticklabels(result)\n",
    "plt.grid()"
   ]
  },
  {
   "cell_type": "markdown",
   "metadata": {},
   "source": [
    "The number of tweets that were already in the dataframe was surprisingly really high even if the streams were done concurrently. The streaming API returns a % of the total tweets also. "
   ]
  },
  {
   "cell_type": "markdown",
   "metadata": {},
   "source": [
    "## Mining the tweets\n",
    "\n",
    "Compare popularity of the keywords: how much of the twitter sphere does the iphone hold compare to the other phone brands aroud the time of the release date\n",
    "\n",
    "### log scaling for influencers talking about these phone"
   ]
  },
  {
   "cell_type": "code",
   "execution_count": 11,
   "metadata": {},
   "outputs": [
    {
     "data": {
      "text/html": [
       "<div>\n",
       "<style>\n",
       "    .dataframe thead tr:only-child th {\n",
       "        text-align: right;\n",
       "    }\n",
       "\n",
       "    .dataframe thead th {\n",
       "        text-align: left;\n",
       "    }\n",
       "\n",
       "    .dataframe tbody tr th {\n",
       "        vertical-align: top;\n",
       "    }\n",
       "</style>\n",
       "<table border=\"1\" class=\"dataframe\">\n",
       "  <thead>\n",
       "    <tr style=\"text-align: right;\">\n",
       "      <th></th>\n",
       "      <th>text</th>\n",
       "      <th>coordinates</th>\n",
       "      <th>username</th>\n",
       "      <th>followers_count</th>\n",
       "    </tr>\n",
       "  </thead>\n",
       "  <tbody>\n",
       "    <tr>\n",
       "      <th>337387</th>\n",
       "      <td>Apple has $262bn of assets, $108bn of debt and...</td>\n",
       "      <td>None</td>\n",
       "      <td>TheEconomist</td>\n",
       "      <td>22295085</td>\n",
       "    </tr>\n",
       "    <tr>\n",
       "      <th>115280</th>\n",
       "      <td>Apple has $262bn of assets, $108bn of debt and...</td>\n",
       "      <td>None</td>\n",
       "      <td>TheEconomist</td>\n",
       "      <td>22290881</td>\n",
       "    </tr>\n",
       "    <tr>\n",
       "      <th>93588</th>\n",
       "      <td>Apple’s free upgrade means that QR-scanning wi...</td>\n",
       "      <td>None</td>\n",
       "      <td>TheEconomist</td>\n",
       "      <td>22290396</td>\n",
       "    </tr>\n",
       "    <tr>\n",
       "      <th>305552</th>\n",
       "      <td>Review of the iPhone X: The new screen takes i...</td>\n",
       "      <td>None</td>\n",
       "      <td>WSJ</td>\n",
       "      <td>15069141</td>\n",
       "    </tr>\n",
       "  </tbody>\n",
       "</table>\n",
       "</div>"
      ],
      "text/plain": [
       "                                                     text coordinates  \\\n",
       "337387  Apple has $262bn of assets, $108bn of debt and...        None   \n",
       "115280  Apple has $262bn of assets, $108bn of debt and...        None   \n",
       "93588   Apple’s free upgrade means that QR-scanning wi...        None   \n",
       "305552  Review of the iPhone X: The new screen takes i...        None   \n",
       "\n",
       "            username followers_count  \n",
       "337387  TheEconomist        22295085  \n",
       "115280  TheEconomist        22290881  \n",
       "93588   TheEconomist        22290396  \n",
       "305552           WSJ        15069141  "
      ]
     },
     "execution_count": 11,
     "metadata": {},
     "output_type": "execute_result"
    }
   ],
   "source": [
    "tweets['followers_count'].max()\n",
    "tweet = tweets.sort_values(['followers_count'], ascending=[False])\n",
    "tweet.drop(tweet.index[0], inplace=True) ##the max was not a number so was disregarded\n",
    "tweet.head(4)"
   ]
  },
  {
   "cell_type": "markdown",
   "metadata": {},
   "source": [
    "### most influencing account"
   ]
  },
  {
   "cell_type": "code",
   "execution_count": 87,
   "metadata": {},
   "outputs": [
    {
     "data": {
      "text/plain": [
       "<matplotlib.axes._subplots.AxesSubplot at 0x45a369898>"
      ]
     },
     "execution_count": 87,
     "metadata": {},
     "output_type": "execute_result"
    },
    {
     "data": {
      "image/png": "[encoded data removed]",
      "text/plain": [
       "<matplotlib.figure.Figure at 0x459ca88d0>"
      ]
     },
     "metadata": {},
     "output_type": "display_data"
    }
   ],
   "source": [
    "# Ge top accounts\n",
    "influencers = tweet.head(10)\n",
    "# remove duplicates\n",
    "top_accounts = influencers.drop_duplicates(subset='username')\n",
    "# histogram of results\n",
    "top_accounts.groupby([\"username\",\"followers_count\"]).size().unstack(level=-1).plot(kind='bar',stacked=True)"
   ]
  },
  {
   "cell_type": "markdown",
   "metadata": {},
   "source": [
    "The accounts with the most followers are all News Companies. "
   ]
  },
  {
   "cell_type": "markdown",
   "metadata": {},
   "source": [
    "#### Range of accounts' number of followers talking about the phones"
   ]
  },
  {
   "cell_type": "code",
   "execution_count": 19,
   "metadata": {},
   "outputs": [
    {
     "name": "stderr",
     "output_type": "stream",
     "text": [
      "C:\\Users\\KVA\\Anaconda2\\lib\\site-packages\\ipykernel_launcher.py:6: SettingWithCopyWarning: \n",
      "A value is trying to be set on a copy of a slice from a DataFrame.\n",
      "Try using .loc[row_indexer,col_indexer] = value instead\n",
      "\n",
      "See the caveats in the documentation: http://pandas.pydata.org/pandas-docs/stable/indexing.html#indexing-view-versus-copy\n",
      "  \n"
     ]
    },
    {
     "data": {
      "text/plain": [
       "<matplotlib.axes._subplots.AxesSubplot at 0x44cd9c2b0>"
      ]
     },
     "execution_count": 19,
     "metadata": {},
     "output_type": "execute_result"
    },
    {
     "data": {
      "image/png": "[encoded data removed]",
      "text/plain": [
       "<matplotlib.figure.Figure at 0x44d5ec470>"
      ]
     },
     "metadata": {},
     "output_type": "display_data"
    }
   ],
   "source": [
    "import numpy as np\n",
    "import matplotlib.pyplot as plt\n",
    "%matplotlib inline\n",
    "tweet['followers_count'] = pd.to_numeric(tweet.followers_count)\n",
    "tweets_followers = tweet.loc[tweet.followers_count != 0]\n",
    "tweets_followers['followers_count_log'] = np.log(tweets_followers['followers_count'])\n",
    "tweets_followers['followers_count_log'].hist(bins=20)"
   ]
  },
  {
   "cell_type": "markdown",
   "metadata": {},
   "source": [
    "Our data set has tweets coming from influencial accounts. The distribution of number of followers is the common bell curved"
   ]
  },
  {
   "cell_type": "markdown",
   "metadata": {},
   "source": [
    "### Finding Tweets with some KeyWords"
   ]
  },
  {
   "cell_type": "code",
   "execution_count": 307,
   "metadata": {
    "collapsed": true
   },
   "outputs": [],
   "source": [
    "import re\n",
    "def word_in_text(word, text):\n",
    "    if(text != None):\n",
    "        word = word.lower()\n",
    "        text = text.lower()\n",
    "        match = re.search(word, text)\n",
    "        if match:\n",
    "            return True\n",
    "        return False\n",
    "    else:\n",
    "        return False\n"
   ]
  },
  {
   "cell_type": "code",
   "execution_count": 358,
   "metadata": {
    "collapsed": true
   },
   "outputs": [],
   "source": [
    "# function that returns the number of tweets containing a specific keyword\n",
    "def count_for_tweet(kword):\n",
    "    tweets[kword] = tweets['processed_text'].apply(lambda tweet: word_in_text(kword, tweet))\n",
    "    return tweets[kword].value_counts()[1] "
   ]
  },
  {
   "cell_type": "code",
   "execution_count": 501,
   "metadata": {},
   "outputs": [
    {
     "name": "stdout",
     "output_type": "stream",
     "text": [
      "iPhone 176688\n",
      "apple 111867\n",
      "Nokia 459\n",
      "Pixel 2920\n",
      "Samsung 2204\n",
      "Google 4671\n",
      "Galaxy 1621\n"
     ]
    }
   ],
   "source": [
    "keywords = ['iPhone', 'apple', 'Nokia', 'Pixel', 'Samsung', 'Google', 'Galaxy']\n",
    "\n",
    "keywords_count = []\n",
    "for k in keywords:\n",
    "    keywords_count.append(count_for_tweet(k))\n",
    "    \n",
    "for x in range(len(keywords)):\n",
    "    print keywords[x], keywords_count[x]\n",
    "    "
   ]
  },
  {
   "cell_type": "code",
   "execution_count": 507,
   "metadata": {
    "scrolled": true
   },
   "outputs": [
    {
     "data": {
      "image/png": "[encoded data removed]",
      "text/plain": [
       "<matplotlib.figure.Figure at 0x69d0ec320>"
      ]
     },
     "metadata": {},
     "output_type": "display_data"
    }
   ],
   "source": [
    "x_pos = list(range(len(keywords)))\n",
    "width = 0.8\n",
    "fig, ax = plt.subplots()\n",
    "plt.bar(x_pos, keywords_count, width, alpha=1, color='g')\n",
    "\n",
    "# Setting axis labels and ticks\n",
    "ax.set_ylabel('Number of Tweets', fontsize=10)\n",
    "ax.set_title('Most Tweeted about', fontsize=10, fontweight='bold')\n",
    "ax.set_xticks([p + 0.4 * width for p in x_pos])\n",
    "ax.set_xticklabels(keywords)\n",
    "plt.grid()"
   ]
  },
  {
   "cell_type": "markdown",
   "metadata": {},
   "source": [
    "For the tweets collected on the launch of the iphoneX apple and the iphone keywords were great hits and the rest remains shy on the twittersphere. the iphone blows away the other models and competitions. "
   ]
  },
  {
   "cell_type": "markdown",
   "metadata": {},
   "source": [
    "## Sentiment Analysis\n",
    "\n",
    "+ pip install textblob\n",
    "\n",
    "Sentiment analysis refers to the use of natural language processing, text analysis and computational linguistics to identify and extract subjective information in source materials. \n",
    "\n",
    "+ https://codehackersblog.blogspot.com/2015/06/a-gentle-introduction-to-textblob-for.html"
   ]
  },
  {
   "cell_type": "code",
   "execution_count": 360,
   "metadata": {
    "collapsed": true
   },
   "outputs": [],
   "source": [
    "from textblob import TextBlob\n",
    "\n",
    "## sentiment analyses of all the tweets containing a keyword\n",
    "## already collected in dataFrame\n",
    "def tweet_sentiment(column):\n",
    "    t2 = tweets[tweets[column] == True]\n",
    "    avg = 0\n",
    "    count = len(t2['text'])\n",
    "    for t in t2['text']:\n",
    "        if (t != None):\n",
    "            tweet = TextBlob(t)\n",
    "            avg = tweet.sentiment.polarity + avg\n",
    "        else:\n",
    "            count = count - 1\n",
    "    avg = avg/count\n",
    "    return avg"
   ]
  },
  {
   "cell_type": "code",
   "execution_count": 361,
   "metadata": {},
   "outputs": [
    {
     "name": "stdout",
     "output_type": "stream",
     "text": [
      "iPhone 0.117942869944\n",
      "apple 0.0810649180977\n",
      "Nokia 0.180121216837\n",
      "Pixel 0.208077018053\n",
      "Samsung 0.218428138161\n",
      "Google 0.141238763091\n",
      "Galaxy 0.273125032594\n"
     ]
    }
   ],
   "source": [
    "## take Tweets containing these keywords \n",
    "keywords = ['iPhone', 'apple', 'Nokia', 'Pixel', 'Samsung', 'Google', 'Galaxy']\n",
    "\n",
    "# Sentiment Analysis\n",
    "keywords_sentiment = []\n",
    "for k in keywords:\n",
    "    keywords_sentiment.append(tweet_sentiment(k))\n",
    "    \n",
    "for x in range(len(keywords)):\n",
    "    print keywords[x], keywords_sentiment[x]"
   ]
  },
  {
   "cell_type": "markdown",
   "metadata": {},
   "source": [
    "A posititve value is interpreted as a good value.\n",
    "A value of 0.0 indicates neutral, 0.5 indicates positive. Values which fall in between 0.4 and 0.5 are more or less positve. \n",
    "Now lets display both the polarity and subjectivity. The sentiment property returns a namedtuple of the form Sentiment(polarity, subjectivity). The polarity score is a float within the range [-1.0, 1.0]. "
   ]
  },
  {
   "cell_type": "code",
   "execution_count": 362,
   "metadata": {},
   "outputs": [
    {
     "data": {
      "image/png": "[encoded data removed]",
      "text/plain": [
       "<matplotlib.figure.Figure at 0x689026828>"
      ]
     },
     "metadata": {},
     "output_type": "display_data"
    }
   ],
   "source": [
    "x_pos = list(range(len(keywords)))\n",
    "width = 0.8\n",
    "fig, ax = plt.subplots()\n",
    "plt.bar(x_pos, keywords_sentiment, width, alpha=1, color='g')\n",
    "\n",
    "# Setting axis labels and ticks\n",
    "ax.set_ylabel('Sentiment of tweets', fontsize=15)\n",
    "ax.set_title('General Sentiment ranking', fontsize=10, fontweight='bold')\n",
    "ax.set_xticks([p + 0.4 * width for p in x_pos])\n",
    "ax.set_xticklabels(keywords)\n",
    "plt.grid()"
   ]
  },
  {
   "cell_type": "markdown",
   "metadata": {},
   "source": [
    "The sentiment polarity of the tweets for all the keywords are in the positive range\n",
    "I expected the iphone or apple keywords to have a higher polarity since the tweets are on the day the iphone x was launched. Maybe people were complaining about the long lines in front of the apple store?"
   ]
  },
  {
   "cell_type": "markdown",
   "metadata": {
    "collapsed": true
   },
   "source": [
    "### Popular hashtag of dataset "
   ]
  },
  {
   "cell_type": "code",
   "execution_count": 405,
   "metadata": {
    "collapsed": true
   },
   "outputs": [],
   "source": [
    "t = tweets['text'][0]\n",
    "re.findall(r'\\#[\\S]+', t)\n",
    "\n",
    "# returns a list of all the hashtags in a tweet\n",
    "global hashtags\n",
    "hashtags = []\n",
    "def find_hashtags(text):\n",
    "    list1 = re.findall(r'\\#[\\S]+', text)\n",
    "    str1 = ' '.join(list1)\n",
    "    global hashtags \n",
    "    hashtags.append(list1)\n",
    "    return str1\n",
    "\n",
    "tweets['hashtags'] = tweets['text'].apply(lambda tweet: find_hashtags(tweet))\n"
   ]
  },
  {
   "cell_type": "code",
   "execution_count": 486,
   "metadata": {},
   "outputs": [
    {
     "data": {
      "text/plain": [
       "OrderedDict([('#iphonex', 5748),\n",
       "             ('#apple', 5396),\n",
       "             ('#dolantwinsnewvideo', 3580),\n",
       "             ('#iphone', 2481),\n",
       "             ('#rm', 1534)])"
      ]
     },
     "execution_count": 486,
     "metadata": {},
     "output_type": "execute_result"
    }
   ],
   "source": [
    "# get the top 5 hashtags\n",
    "import collections\n",
    "from operator import itemgetter\n",
    "cnt = collections.Counter()\n",
    "for l in hashtags:\n",
    "    for l2 in l:\n",
    "        cnt[l2.encode('utf-8').lower()] += 1\n",
    "top_hashtags = dict(cnt.most_common(5))\n",
    "top_hashtags = collections.OrderedDict(sorted(top_hashtags.items(), key=itemgetter(1), reverse=True))\n",
    "top_hashtags"
   ]
  },
  {
   "cell_type": "code",
   "execution_count": 500,
   "metadata": {},
   "outputs": [
    {
     "data": {
      "image/png": "[encoded data removed]",
      "text/plain": [
       "<matplotlib.figure.Figure at 0x69c2db7b8>"
      ]
     },
     "metadata": {},
     "output_type": "display_data"
    }
   ],
   "source": [
    "# Plot result\n",
    "x_pos = list(range(len(top_hashtags)))\n",
    "fig, ax = plt.subplots()\n",
    "plt.bar(x_pos, top_hashtags.values(), 0.5, alpha=1, color='r')\n",
    "\n",
    "# Setting axis labels and ticks\n",
    "ax.set_ylabel('Number of tweets', fontsize=12)\n",
    "ax.set_title('Trending Hashtags', fontsize=10, fontweight='bold')\n",
    "ax.set_xticks([p + 0.2 * 0.8 for p in x_pos])\n",
    "ax.set_xticklabels(top_hashtags.keys(), fontsize = 7.8)\n",
    "plt.grid()"
   ]
  },
  {
   "cell_type": "markdown",
   "metadata": {
    "collapsed": true
   },
   "source": [
    "As expected #iphonex was trending and is the most popular hashtag in the data set. Corrolates with the launch. The 3rd is a viral hashtag that was trending just at this particular time"
   ]
  },
  {
   "cell_type": "code",
   "execution_count": null,
   "metadata": {
    "collapsed": true
   },
   "outputs": [],
   "source": []
  }
 ],
 "metadata": {
  "kernelspec": {
   "display_name": "Python 2",
   "language": "python",
   "name": "python2"
  },
  "language_info": {
   "codemirror_mode": {
    "name": "ipython",
    "version": 2
   },
   "file_extension": ".py",
   "mimetype": "text/x-python",
   "name": "python",
   "nbconvert_exporter": "python",
   "pygments_lexer": "ipython2",
   "version": "2.7.13"
  }
 },
 "nbformat": 4,
 "nbformat_minor": 1
}
