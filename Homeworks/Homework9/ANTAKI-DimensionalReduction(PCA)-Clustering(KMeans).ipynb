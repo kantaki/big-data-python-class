{
 "cells": [
  {
   "cell_type": "markdown",
   "metadata": {},
   "source": [
    "# Dimensionality Reduction\n",
    "\n",
    "### The Curse of Dimensionality\n",
    "Dimensionality refers to the number of features in a dataset.\n",
    "The “Curse of Dimensionality” is when the <b>number of features</b> is very <b>large</b> relative to the number of observations in a dataset and some algorithms struggle to train effective models. \n",
    "\n",
    "<img src=\"images/curse.png\",width=500,height=500>\n",
    "\n",
    "Source: https://elitedatascience.com/dimensionality-reduction-algorithms\n",
    "\n",
    "Dimensionality reduction algorithms fall into the tranformation category and are a family of unsupervisd learning methods. These transformations take your original dataset (containing for example more than 200 features) and will find an approximate version of that dataset that will <b>reduce the number of features</b> \n",
    "\n",
    "The way we - humans - try to understand samples, we usually explore them and try to visualize them using 2D plots. So the need for dimensionality reduction is necessary. The most commonly used dimensionality reduction algorithms is called <b>Principal component analysis.</b> (PCA)\n",
    "\n",
    "\n",
    "<b>PCA</b>\n",
    "Takes your \"cloud of original data points\" and finds a rotation of it.\n",
    "Drops all but the <b>most informative initial dimensions</b> that capture most of the variation in the original dataset. \n",
    "\n",
    "if we have two original features that are highly correlated represented by this cloud of points, PCA will rotate the data so the direction of highest variance,<b> the first principal component</b>\n",
    "\n",
    "Find the direction at right angles that maximally captures the remaining variance - <b> the second principle component</b>.\n",
    "\n",
    "The process of finding successive principal components at right angles to the previous ones continues until the desired <b>number of principal components</b> is reached. \n",
    "\n",
    "\n",
    "Source: https://www.coursera.org/learn/python-machine-learning/lecture/cgzXI/dimensionality-reduction-and-manifold-learning\n",
    "\n",
    "<b>Example of the iris dataset</b></b> - comprised of 4 features, projected onto 2 dimensions - most of the variance is explained:\n",
    "\n",
    "<img src=\"images/pcairis.png\",width=500,height=500>\n",
    "\n",
    "Source: http://scikit-learn.org/stable/modules/decomposition.html#decompositions\n",
    "\n",
    "## PCA implementation in sklearn\n",
    "\n",
    "We are going to use Python's sklearn machine learning library for PCA on a data containing high dimensionality - meaning a good amount of features: We are using one of the Kaggle datasets that deals with pollution in the U.S.\n",
    "\n",
    "Source: https://www.kaggle.com/sogun3/uspollution"
   ]
  },
  {
   "cell_type": "code",
   "execution_count": 1,
   "metadata": {},
   "outputs": [
    {
     "data": {
      "text/html": [
       "<div>\n",
       "<style>\n",
       "    .dataframe thead tr:only-child th {\n",
       "        text-align: right;\n",
       "    }\n",
       "\n",
       "    .dataframe thead th {\n",
       "        text-align: left;\n",
       "    }\n",
       "\n",
       "    .dataframe tbody tr th {\n",
       "        vertical-align: top;\n",
       "    }\n",
       "</style>\n",
       "<table border=\"1\" class=\"dataframe\">\n",
       "  <thead>\n",
       "    <tr style=\"text-align: right;\">\n",
       "      <th></th>\n",
       "      <th>Unnamed: 0</th>\n",
       "      <th>State Code</th>\n",
       "      <th>County Code</th>\n",
       "      <th>Site Num</th>\n",
       "      <th>Address</th>\n",
       "      <th>State</th>\n",
       "      <th>County</th>\n",
       "      <th>City</th>\n",
       "      <th>Date Local</th>\n",
       "      <th>NO2 Units</th>\n",
       "      <th>...</th>\n",
       "      <th>SO2 Units</th>\n",
       "      <th>SO2 Mean</th>\n",
       "      <th>SO2 1st Max Value</th>\n",
       "      <th>SO2 1st Max Hour</th>\n",
       "      <th>SO2 AQI</th>\n",
       "      <th>CO Units</th>\n",
       "      <th>CO Mean</th>\n",
       "      <th>CO 1st Max Value</th>\n",
       "      <th>CO 1st Max Hour</th>\n",
       "      <th>CO AQI</th>\n",
       "    </tr>\n",
       "  </thead>\n",
       "  <tbody>\n",
       "    <tr>\n",
       "      <th>0</th>\n",
       "      <td>0</td>\n",
       "      <td>4</td>\n",
       "      <td>13</td>\n",
       "      <td>3002</td>\n",
       "      <td>1645 E ROOSEVELT ST-CENTRAL PHOENIX STN</td>\n",
       "      <td>Arizona</td>\n",
       "      <td>Maricopa</td>\n",
       "      <td>Phoenix</td>\n",
       "      <td>2000-01-01</td>\n",
       "      <td>Parts per billion</td>\n",
       "      <td>...</td>\n",
       "      <td>Parts per billion</td>\n",
       "      <td>3.0</td>\n",
       "      <td>9.0</td>\n",
       "      <td>21</td>\n",
       "      <td>13.0</td>\n",
       "      <td>Parts per million</td>\n",
       "      <td>1.145833</td>\n",
       "      <td>4.2</td>\n",
       "      <td>21</td>\n",
       "      <td>NaN</td>\n",
       "    </tr>\n",
       "  </tbody>\n",
       "</table>\n",
       "<p>1 rows × 29 columns</p>\n",
       "</div>"
      ],
      "text/plain": [
       "   Unnamed: 0  State Code  County Code  Site Num  \\\n",
       "0           0           4           13      3002   \n",
       "\n",
       "                                   Address    State    County     City  \\\n",
       "0  1645 E ROOSEVELT ST-CENTRAL PHOENIX STN  Arizona  Maricopa  Phoenix   \n",
       "\n",
       "   Date Local          NO2 Units  ...            SO2 Units  SO2 Mean  \\\n",
       "0  2000-01-01  Parts per billion  ...    Parts per billion       3.0   \n",
       "\n",
       "   SO2 1st Max Value  SO2 1st Max Hour SO2 AQI           CO Units   CO Mean  \\\n",
       "0                9.0                21    13.0  Parts per million  1.145833   \n",
       "\n",
       "   CO 1st Max Value  CO 1st Max Hour CO AQI  \n",
       "0               4.2               21    NaN  \n",
       "\n",
       "[1 rows x 29 columns]"
      ]
     },
     "execution_count": 1,
     "metadata": {},
     "output_type": "execute_result"
    }
   ],
   "source": [
    "import pandas as pd\n",
    "df = pd.read_csv(\"pollution_us.csv\")\n",
    "df.head(1)"
   ]
  },
  {
   "cell_type": "markdown",
   "metadata": {},
   "source": [
    "#### Getting the data ready for PCA\n",
    "For the purpose of this example we are simply kepeping one sample for each state in order to see how this particular point will be represented with so many attributes - the datframe is composed of 29 columns"
   ]
  },
  {
   "cell_type": "code",
   "execution_count": 2,
   "metadata": {
    "collapsed": true
   },
   "outputs": [],
   "source": [
    "##keep once sample for each state\n",
    "df = df.drop_duplicates(subset='State')"
   ]
  },
  {
   "cell_type": "markdown",
   "metadata": {},
   "source": [
    "+ Keeping the columns with float values"
   ]
  },
  {
   "cell_type": "code",
   "execution_count": 3,
   "metadata": {},
   "outputs": [
    {
     "name": "stderr",
     "output_type": "stream",
     "text": [
      "C:\\Users\\KVA\\Anaconda2\\lib\\site-packages\\ipykernel_launcher.py:9: SettingWithCopyWarning: \n",
      "A value is trying to be set on a copy of a slice from a DataFrame.\n",
      "Try using .loc[row_indexer,col_indexer] = value instead\n",
      "\n",
      "See the caveats in the documentation: http://pandas.pydata.org/pandas-docs/stable/indexing.html#indexing-view-versus-copy\n",
      "  if __name__ == '__main__':\n"
     ]
    },
    {
     "data": {
      "text/html": [
       "<div>\n",
       "<style>\n",
       "    .dataframe thead tr:only-child th {\n",
       "        text-align: right;\n",
       "    }\n",
       "\n",
       "    .dataframe thead th {\n",
       "        text-align: left;\n",
       "    }\n",
       "\n",
       "    .dataframe tbody tr th {\n",
       "        vertical-align: top;\n",
       "    }\n",
       "</style>\n",
       "<table border=\"1\" class=\"dataframe\">\n",
       "  <thead>\n",
       "    <tr style=\"text-align: right;\">\n",
       "      <th></th>\n",
       "      <th>NO2 Mean</th>\n",
       "      <th>NO2 1st Max Value</th>\n",
       "      <th>O3 Mean</th>\n",
       "      <th>O3 1st Max Value</th>\n",
       "      <th>SO2 Mean</th>\n",
       "      <th>SO2 1st Max Value</th>\n",
       "      <th>SO2 AQI</th>\n",
       "      <th>CO Mean</th>\n",
       "      <th>CO 1st Max Value</th>\n",
       "      <th>CO AQI</th>\n",
       "      <th>State</th>\n",
       "    </tr>\n",
       "  </thead>\n",
       "  <tbody>\n",
       "    <tr>\n",
       "      <th>0</th>\n",
       "      <td>19.041667</td>\n",
       "      <td>49.0</td>\n",
       "      <td>0.022500</td>\n",
       "      <td>0.040</td>\n",
       "      <td>3.000000</td>\n",
       "      <td>9.0</td>\n",
       "      <td>13.0</td>\n",
       "      <td>1.145833</td>\n",
       "      <td>4.2</td>\n",
       "      <td>NaN</td>\n",
       "      <td>Arizona</td>\n",
       "    </tr>\n",
       "    <tr>\n",
       "      <th>3516</th>\n",
       "      <td>14.782609</td>\n",
       "      <td>26.0</td>\n",
       "      <td>0.015542</td>\n",
       "      <td>0.029</td>\n",
       "      <td>0.636364</td>\n",
       "      <td>2.0</td>\n",
       "      <td>3.0</td>\n",
       "      <td>0.556522</td>\n",
       "      <td>1.3</td>\n",
       "      <td>NaN</td>\n",
       "      <td>California</td>\n",
       "    </tr>\n",
       "    <tr>\n",
       "      <th>38306</th>\n",
       "      <td>27.434783</td>\n",
       "      <td>46.0</td>\n",
       "      <td>0.013250</td>\n",
       "      <td>0.027</td>\n",
       "      <td>4.434783</td>\n",
       "      <td>25.0</td>\n",
       "      <td>36.0</td>\n",
       "      <td>0.670833</td>\n",
       "      <td>1.4</td>\n",
       "      <td>NaN</td>\n",
       "      <td>Colorado</td>\n",
       "    </tr>\n",
       "    <tr>\n",
       "      <th>39766</th>\n",
       "      <td>26.541667</td>\n",
       "      <td>39.0</td>\n",
       "      <td>0.004167</td>\n",
       "      <td>0.014</td>\n",
       "      <td>11.250000</td>\n",
       "      <td>33.0</td>\n",
       "      <td>47.0</td>\n",
       "      <td>2.062500</td>\n",
       "      <td>4.1</td>\n",
       "      <td>NaN</td>\n",
       "      <td>District Of Columbia</td>\n",
       "    </tr>\n",
       "    <tr>\n",
       "      <th>41222</th>\n",
       "      <td>14.750000</td>\n",
       "      <td>32.0</td>\n",
       "      <td>0.023167</td>\n",
       "      <td>0.048</td>\n",
       "      <td>0.166667</td>\n",
       "      <td>1.0</td>\n",
       "      <td>1.0</td>\n",
       "      <td>0.966667</td>\n",
       "      <td>2.2</td>\n",
       "      <td>NaN</td>\n",
       "      <td>Florida</td>\n",
       "    </tr>\n",
       "  </tbody>\n",
       "</table>\n",
       "</div>"
      ],
      "text/plain": [
       "        NO2 Mean  NO2 1st Max Value   O3 Mean  O3 1st Max Value   SO2 Mean  \\\n",
       "0      19.041667               49.0  0.022500             0.040   3.000000   \n",
       "3516   14.782609               26.0  0.015542             0.029   0.636364   \n",
       "38306  27.434783               46.0  0.013250             0.027   4.434783   \n",
       "39766  26.541667               39.0  0.004167             0.014  11.250000   \n",
       "41222  14.750000               32.0  0.023167             0.048   0.166667   \n",
       "\n",
       "       SO2 1st Max Value  SO2 AQI   CO Mean  CO 1st Max Value  CO AQI  \\\n",
       "0                    9.0     13.0  1.145833               4.2     NaN   \n",
       "3516                 2.0      3.0  0.556522               1.3     NaN   \n",
       "38306               25.0     36.0  0.670833               1.4     NaN   \n",
       "39766               33.0     47.0  2.062500               4.1     NaN   \n",
       "41222                1.0      1.0  0.966667               2.2     NaN   \n",
       "\n",
       "                      State  \n",
       "0                   Arizona  \n",
       "3516             California  \n",
       "38306              Colorado  \n",
       "39766  District Of Columbia  \n",
       "41222               Florida  "
      ]
     },
     "execution_count": 3,
     "metadata": {},
     "output_type": "execute_result"
    }
   ],
   "source": [
    "import numpy as np\n",
    "# check type of each column\n",
    "df.dtypes\n",
    "# columns that are floats\n",
    "msk = df.dtypes == np.float64\n",
    "# keep those that are floats\n",
    "df2 = df.loc[:, msk]\n",
    "#keep track of the states\n",
    "df2['State'] = df.loc[:,'State']\n",
    "df2.head(5)"
   ]
  },
  {
   "cell_type": "code",
   "execution_count": 4,
   "metadata": {},
   "outputs": [
    {
     "data": {
      "text/html": [
       "<div>\n",
       "<style>\n",
       "    .dataframe thead tr:only-child th {\n",
       "        text-align: right;\n",
       "    }\n",
       "\n",
       "    .dataframe thead th {\n",
       "        text-align: left;\n",
       "    }\n",
       "\n",
       "    .dataframe tbody tr th {\n",
       "        vertical-align: top;\n",
       "    }\n",
       "</style>\n",
       "<table border=\"1\" class=\"dataframe\">\n",
       "  <thead>\n",
       "    <tr style=\"text-align: right;\">\n",
       "      <th></th>\n",
       "      <th>NO2 Mean</th>\n",
       "      <th>NO2 1st Max Value</th>\n",
       "      <th>O3 Mean</th>\n",
       "      <th>O3 1st Max Value</th>\n",
       "      <th>SO2 Mean</th>\n",
       "      <th>SO2 1st Max Value</th>\n",
       "      <th>SO2 AQI</th>\n",
       "      <th>CO Mean</th>\n",
       "      <th>CO 1st Max Value</th>\n",
       "      <th>State</th>\n",
       "    </tr>\n",
       "  </thead>\n",
       "  <tbody>\n",
       "    <tr>\n",
       "      <th>0</th>\n",
       "      <td>19.041667</td>\n",
       "      <td>49.0</td>\n",
       "      <td>0.022500</td>\n",
       "      <td>0.040</td>\n",
       "      <td>3.000000</td>\n",
       "      <td>9.0</td>\n",
       "      <td>13.0</td>\n",
       "      <td>1.145833</td>\n",
       "      <td>4.2</td>\n",
       "      <td>Arizona</td>\n",
       "    </tr>\n",
       "    <tr>\n",
       "      <th>3516</th>\n",
       "      <td>14.782609</td>\n",
       "      <td>26.0</td>\n",
       "      <td>0.015542</td>\n",
       "      <td>0.029</td>\n",
       "      <td>0.636364</td>\n",
       "      <td>2.0</td>\n",
       "      <td>3.0</td>\n",
       "      <td>0.556522</td>\n",
       "      <td>1.3</td>\n",
       "      <td>California</td>\n",
       "    </tr>\n",
       "    <tr>\n",
       "      <th>38306</th>\n",
       "      <td>27.434783</td>\n",
       "      <td>46.0</td>\n",
       "      <td>0.013250</td>\n",
       "      <td>0.027</td>\n",
       "      <td>4.434783</td>\n",
       "      <td>25.0</td>\n",
       "      <td>36.0</td>\n",
       "      <td>0.670833</td>\n",
       "      <td>1.4</td>\n",
       "      <td>Colorado</td>\n",
       "    </tr>\n",
       "    <tr>\n",
       "      <th>39766</th>\n",
       "      <td>26.541667</td>\n",
       "      <td>39.0</td>\n",
       "      <td>0.004167</td>\n",
       "      <td>0.014</td>\n",
       "      <td>11.250000</td>\n",
       "      <td>33.0</td>\n",
       "      <td>47.0</td>\n",
       "      <td>2.062500</td>\n",
       "      <td>4.1</td>\n",
       "      <td>District Of Columbia</td>\n",
       "    </tr>\n",
       "  </tbody>\n",
       "</table>\n",
       "</div>"
      ],
      "text/plain": [
       "        NO2 Mean  NO2 1st Max Value   O3 Mean  O3 1st Max Value   SO2 Mean  \\\n",
       "0      19.041667               49.0  0.022500             0.040   3.000000   \n",
       "3516   14.782609               26.0  0.015542             0.029   0.636364   \n",
       "38306  27.434783               46.0  0.013250             0.027   4.434783   \n",
       "39766  26.541667               39.0  0.004167             0.014  11.250000   \n",
       "\n",
       "       SO2 1st Max Value  SO2 AQI   CO Mean  CO 1st Max Value  \\\n",
       "0                    9.0     13.0  1.145833               4.2   \n",
       "3516                 2.0      3.0  0.556522               1.3   \n",
       "38306               25.0     36.0  0.670833               1.4   \n",
       "39766               33.0     47.0  2.062500               4.1   \n",
       "\n",
       "                      State  \n",
       "0                   Arizona  \n",
       "3516             California  \n",
       "38306              Colorado  \n",
       "39766  District Of Columbia  "
      ]
     },
     "execution_count": 4,
     "metadata": {},
     "output_type": "execute_result"
    }
   ],
   "source": [
    "# drop the column with NA values\n",
    "df2 = df2.drop(df2.columns[9], axis=1)\n",
    "df2.head(4)"
   ]
  },
  {
   "cell_type": "code",
   "execution_count": 5,
   "metadata": {},
   "outputs": [
    {
     "data": {
      "text/html": [
       "<div>\n",
       "<style>\n",
       "    .dataframe thead tr:only-child th {\n",
       "        text-align: right;\n",
       "    }\n",
       "\n",
       "    .dataframe thead th {\n",
       "        text-align: left;\n",
       "    }\n",
       "\n",
       "    .dataframe tbody tr th {\n",
       "        vertical-align: top;\n",
       "    }\n",
       "</style>\n",
       "<table border=\"1\" class=\"dataframe\">\n",
       "  <thead>\n",
       "    <tr style=\"text-align: right;\">\n",
       "      <th></th>\n",
       "      <th>NO2 Mean</th>\n",
       "      <th>NO2 1st Max Value</th>\n",
       "      <th>O3 Mean</th>\n",
       "      <th>O3 1st Max Value</th>\n",
       "      <th>SO2 Mean</th>\n",
       "      <th>SO2 1st Max Value</th>\n",
       "      <th>SO2 AQI</th>\n",
       "      <th>CO Mean</th>\n",
       "      <th>CO 1st Max Value</th>\n",
       "    </tr>\n",
       "    <tr>\n",
       "      <th>State</th>\n",
       "      <th></th>\n",
       "      <th></th>\n",
       "      <th></th>\n",
       "      <th></th>\n",
       "      <th></th>\n",
       "      <th></th>\n",
       "      <th></th>\n",
       "      <th></th>\n",
       "      <th></th>\n",
       "    </tr>\n",
       "  </thead>\n",
       "  <tbody>\n",
       "    <tr>\n",
       "      <th>Arizona</th>\n",
       "      <td>19.041667</td>\n",
       "      <td>49.0</td>\n",
       "      <td>0.0225</td>\n",
       "      <td>0.04</td>\n",
       "      <td>3.0</td>\n",
       "      <td>9.0</td>\n",
       "      <td>13.0</td>\n",
       "      <td>1.145833</td>\n",
       "      <td>4.2</td>\n",
       "    </tr>\n",
       "  </tbody>\n",
       "</table>\n",
       "</div>"
      ],
      "text/plain": [
       "          NO2 Mean  NO2 1st Max Value  O3 Mean  O3 1st Max Value  SO2 Mean  \\\n",
       "State                                                                        \n",
       "Arizona  19.041667               49.0   0.0225              0.04       3.0   \n",
       "\n",
       "         SO2 1st Max Value  SO2 AQI   CO Mean  CO 1st Max Value  \n",
       "State                                                            \n",
       "Arizona                9.0     13.0  1.145833               4.2  "
      ]
     },
     "execution_count": 5,
     "metadata": {},
     "output_type": "execute_result"
    }
   ],
   "source": [
    "# put the states as index of the dataframe\n",
    "df2.index = df2['State'] \n",
    "df2.head(1)\n",
    "# remove the state column to keep only the floats as preperation for PCA\n",
    "df2 = df2.drop(df2.columns[-1], axis=1)\n",
    "df2.head(1)"
   ]
  },
  {
   "cell_type": "markdown",
   "metadata": {},
   "source": [
    "To understand the data a bit more we sorted the databse by mean CO levels and made visibale the states with highest CO levels"
   ]
  },
  {
   "cell_type": "code",
   "execution_count": 6,
   "metadata": {},
   "outputs": [
    {
     "data": {
      "text/html": [
       "<div>\n",
       "<style>\n",
       "    .dataframe thead tr:only-child th {\n",
       "        text-align: right;\n",
       "    }\n",
       "\n",
       "    .dataframe thead th {\n",
       "        text-align: left;\n",
       "    }\n",
       "\n",
       "    .dataframe tbody tr th {\n",
       "        vertical-align: top;\n",
       "    }\n",
       "</style>\n",
       "<table border=\"1\" class=\"dataframe\">\n",
       "  <thead>\n",
       "    <tr style=\"text-align: right;\">\n",
       "      <th></th>\n",
       "      <th>NO2 Mean</th>\n",
       "      <th>NO2 1st Max Value</th>\n",
       "      <th>O3 Mean</th>\n",
       "      <th>O3 1st Max Value</th>\n",
       "      <th>SO2 Mean</th>\n",
       "      <th>SO2 1st Max Value</th>\n",
       "      <th>SO2 AQI</th>\n",
       "      <th>CO Mean</th>\n",
       "      <th>CO 1st Max Value</th>\n",
       "    </tr>\n",
       "    <tr>\n",
       "      <th>State</th>\n",
       "      <th></th>\n",
       "      <th></th>\n",
       "      <th></th>\n",
       "      <th></th>\n",
       "      <th></th>\n",
       "      <th></th>\n",
       "      <th></th>\n",
       "      <th></th>\n",
       "      <th></th>\n",
       "    </tr>\n",
       "  </thead>\n",
       "  <tbody>\n",
       "    <tr>\n",
       "      <th>District Of Columbia</th>\n",
       "      <td>26.541667</td>\n",
       "      <td>39.0</td>\n",
       "      <td>0.004167</td>\n",
       "      <td>0.014</td>\n",
       "      <td>11.250000</td>\n",
       "      <td>33.0</td>\n",
       "      <td>47.0</td>\n",
       "      <td>2.062500</td>\n",
       "      <td>4.1</td>\n",
       "    </tr>\n",
       "    <tr>\n",
       "      <th>Indiana</th>\n",
       "      <td>31.041667</td>\n",
       "      <td>51.0</td>\n",
       "      <td>0.003000</td>\n",
       "      <td>0.003</td>\n",
       "      <td>7.260870</td>\n",
       "      <td>12.0</td>\n",
       "      <td>17.0</td>\n",
       "      <td>2.054167</td>\n",
       "      <td>3.9</td>\n",
       "    </tr>\n",
       "    <tr>\n",
       "      <th>Arizona</th>\n",
       "      <td>19.041667</td>\n",
       "      <td>49.0</td>\n",
       "      <td>0.022500</td>\n",
       "      <td>0.040</td>\n",
       "      <td>3.000000</td>\n",
       "      <td>9.0</td>\n",
       "      <td>13.0</td>\n",
       "      <td>1.145833</td>\n",
       "      <td>4.2</td>\n",
       "    </tr>\n",
       "    <tr>\n",
       "      <th>New Jersey</th>\n",
       "      <td>24.250000</td>\n",
       "      <td>31.0</td>\n",
       "      <td>0.003208</td>\n",
       "      <td>0.005</td>\n",
       "      <td>15.583333</td>\n",
       "      <td>39.0</td>\n",
       "      <td>55.0</td>\n",
       "      <td>1.145833</td>\n",
       "      <td>2.6</td>\n",
       "    </tr>\n",
       "    <tr>\n",
       "      <th>Tennessee</th>\n",
       "      <td>1.000000</td>\n",
       "      <td>1.0</td>\n",
       "      <td>0.037208</td>\n",
       "      <td>0.051</td>\n",
       "      <td>1.000000</td>\n",
       "      <td>1.0</td>\n",
       "      <td>1.0</td>\n",
       "      <td>1.000000</td>\n",
       "      <td>1.0</td>\n",
       "    </tr>\n",
       "  </tbody>\n",
       "</table>\n",
       "</div>"
      ],
      "text/plain": [
       "                       NO2 Mean  NO2 1st Max Value   O3 Mean  \\\n",
       "State                                                          \n",
       "District Of Columbia  26.541667               39.0  0.004167   \n",
       "Indiana               31.041667               51.0  0.003000   \n",
       "Arizona               19.041667               49.0  0.022500   \n",
       "New Jersey            24.250000               31.0  0.003208   \n",
       "Tennessee              1.000000                1.0  0.037208   \n",
       "\n",
       "                      O3 1st Max Value   SO2 Mean  SO2 1st Max Value  SO2 AQI  \\\n",
       "State                                                                           \n",
       "District Of Columbia             0.014  11.250000               33.0     47.0   \n",
       "Indiana                          0.003   7.260870               12.0     17.0   \n",
       "Arizona                          0.040   3.000000                9.0     13.0   \n",
       "New Jersey                       0.005  15.583333               39.0     55.0   \n",
       "Tennessee                        0.051   1.000000                1.0      1.0   \n",
       "\n",
       "                       CO Mean  CO 1st Max Value  \n",
       "State                                             \n",
       "District Of Columbia  2.062500               4.1  \n",
       "Indiana               2.054167               3.9  \n",
       "Arizona               1.145833               4.2  \n",
       "New Jersey            1.145833               2.6  \n",
       "Tennessee             1.000000               1.0  "
      ]
     },
     "execution_count": 6,
     "metadata": {},
     "output_type": "execute_result"
    }
   ],
   "source": [
    "COsort = df2.sort_values('CO Mean', ascending=False)\n",
    "COsort.head(5)"
   ]
  },
  {
   "cell_type": "markdown",
   "metadata": {},
   "source": [
    "But again this is just classifying our data based on one feature so we need PCA to reduce the dimensionality of our datasets with the 9 feautres left"
   ]
  },
  {
   "cell_type": "markdown",
   "metadata": {},
   "source": [
    "####  PCA on this high dimensionality PCA\n",
    "+ pip install sklearn\n",
    "\n",
    "Following the tutorial at: https://www.codementor.io/jadianes/data-science-python-pandas-r-dimensionality-reduction-du1081aka"
   ]
  },
  {
   "cell_type": "code",
   "execution_count": 7,
   "metadata": {},
   "outputs": [
    {
     "data": {
      "text/plain": [
       "PCA(copy=True, iterated_power='auto', n_components=2, random_state=None,\n",
       "  svd_solver='auto', tol=0.0, whiten=False)"
      ]
     },
     "execution_count": 7,
     "metadata": {},
     "output_type": "execute_result"
    }
   ],
   "source": [
    "from sklearn.decomposition import PCA\n",
    "#need to specify the number of principal components (in this example it it is set to 2)\n",
    "pca = PCA(n_components=2)\n",
    "pca.fit(df2)"
   ]
  },
  {
   "cell_type": "code",
   "execution_count": 8,
   "metadata": {
    "collapsed": true
   },
   "outputs": [],
   "source": [
    "df2d = pca.transform(df2)"
   ]
  },
  {
   "cell_type": "markdown",
   "metadata": {},
   "source": [
    "+ Getting the results of the first and second principle component for each state"
   ]
  },
  {
   "cell_type": "code",
   "execution_count": 9,
   "metadata": {},
   "outputs": [
    {
     "data": {
      "text/html": [
       "<div>\n",
       "<style>\n",
       "    .dataframe thead tr:only-child th {\n",
       "        text-align: right;\n",
       "    }\n",
       "\n",
       "    .dataframe thead th {\n",
       "        text-align: left;\n",
       "    }\n",
       "\n",
       "    .dataframe tbody tr th {\n",
       "        vertical-align: top;\n",
       "    }\n",
       "</style>\n",
       "<table border=\"1\" class=\"dataframe\">\n",
       "  <thead>\n",
       "    <tr style=\"text-align: right;\">\n",
       "      <th></th>\n",
       "      <th>PC1</th>\n",
       "      <th>PC2</th>\n",
       "    </tr>\n",
       "    <tr>\n",
       "      <th>State</th>\n",
       "      <th></th>\n",
       "      <th></th>\n",
       "    </tr>\n",
       "  </thead>\n",
       "  <tbody>\n",
       "    <tr>\n",
       "      <th>Arizona</th>\n",
       "      <td>14.077757</td>\n",
       "      <td>-14.511895</td>\n",
       "    </tr>\n",
       "    <tr>\n",
       "      <th>California</th>\n",
       "      <td>-10.334139</td>\n",
       "      <td>-7.896598</td>\n",
       "    </tr>\n",
       "    <tr>\n",
       "      <th>Colorado</th>\n",
       "      <td>34.088514</td>\n",
       "      <td>6.021901</td>\n",
       "    </tr>\n",
       "    <tr>\n",
       "      <th>District Of Columbia</th>\n",
       "      <td>39.250864</td>\n",
       "      <td>21.382825</td>\n",
       "    </tr>\n",
       "    <tr>\n",
       "      <th>Florida</th>\n",
       "      <td>-8.101079</td>\n",
       "      <td>-13.414407</td>\n",
       "    </tr>\n",
       "  </tbody>\n",
       "</table>\n",
       "</div>"
      ],
      "text/plain": [
       "                            PC1        PC2\n",
       "State                                     \n",
       "Arizona               14.077757 -14.511895\n",
       "California           -10.334139  -7.896598\n",
       "Colorado              34.088514   6.021901\n",
       "District Of Columbia  39.250864  21.382825\n",
       "Florida               -8.101079 -13.414407"
      ]
     },
     "execution_count": 9,
     "metadata": {},
     "output_type": "execute_result"
    }
   ],
   "source": [
    "df_2d = pd.DataFrame(df2d)\n",
    "df_2d.index = df2.index\n",
    "df_2d.columns = ['PC1','PC2']\n",
    "df_2d.head()"
   ]
  },
  {
   "cell_type": "markdown",
   "metadata": {},
   "source": [
    "+ Variance of PC1 and PC2"
   ]
  },
  {
   "cell_type": "code",
   "execution_count": 10,
   "metadata": {},
   "outputs": [
    {
     "data": {
      "text/plain": [
       "array([ 0.75403283,  0.22801961])"
      ]
     },
     "execution_count": 10,
     "metadata": {},
     "output_type": "execute_result"
    }
   ],
   "source": [
    "pca.explained_variance_ratio_"
   ]
  },
  {
   "cell_type": "markdown",
   "metadata": {},
   "source": [
    "We see that the <b>first</b> PC already explains almost <b>75%</b> of the variance, while the\n",
    "<b>second</b> one accounts for another <b>22%</b> for a <b>total</b> of almost <b>97%</b> between the two of\n",
    "them. So the most varience will occur on the y axis\n",
    "Let's visualize it the graph below"
   ]
  },
  {
   "cell_type": "code",
   "execution_count": 11,
   "metadata": {},
   "outputs": [
    {
     "data": {
      "image/png": "[encoded data removed]",
      "text/plain": [
       "<matplotlib.figure.Figure at 0x257083c8>"
      ]
     },
     "metadata": {},
     "output_type": "display_data"
    }
   ],
   "source": [
    "%matplotlib inline\n",
    "    \n",
    "ax = df_2d.plot(kind='scatter', x='PC2', y='PC1', figsize=(12,7))\n",
    "    \n",
    "for i, state in enumerate(df2.index):\n",
    "    ax.annotate(\n",
    "        state, \n",
    "        (df_2d.iloc[i].PC2, df_2d.iloc[i].PC1)\n",
    "    )"
   ]
  },
  {
   "cell_type": "markdown",
   "metadata": {},
   "source": [
    "## Normalize Data\n",
    "\n",
    "+ Mean"
   ]
  },
  {
   "cell_type": "code",
   "execution_count": 12,
   "metadata": {},
   "outputs": [
    {
     "data": {
      "text/html": [
       "<div>\n",
       "<style>\n",
       "    .dataframe thead tr:only-child th {\n",
       "        text-align: right;\n",
       "    }\n",
       "\n",
       "    .dataframe thead th {\n",
       "        text-align: left;\n",
       "    }\n",
       "\n",
       "    .dataframe tbody tr th {\n",
       "        vertical-align: top;\n",
       "    }\n",
       "</style>\n",
       "<table border=\"1\" class=\"dataframe\">\n",
       "  <thead>\n",
       "    <tr style=\"text-align: right;\">\n",
       "      <th></th>\n",
       "      <th>PC1</th>\n",
       "      <th>PC2</th>\n",
       "      <th>CO2_mean</th>\n",
       "      <th>CO2_mean_scaled</th>\n",
       "    </tr>\n",
       "    <tr>\n",
       "      <th>State</th>\n",
       "      <th></th>\n",
       "      <th></th>\n",
       "      <th></th>\n",
       "      <th></th>\n",
       "    </tr>\n",
       "  </thead>\n",
       "  <tbody>\n",
       "    <tr>\n",
       "      <th>Arizona</th>\n",
       "      <td>14.077757</td>\n",
       "      <td>-14.511895</td>\n",
       "      <td>10.938889</td>\n",
       "      <td>0.482594</td>\n",
       "    </tr>\n",
       "    <tr>\n",
       "      <th>California</th>\n",
       "      <td>-10.334139</td>\n",
       "      <td>-7.896598</td>\n",
       "      <td>5.368893</td>\n",
       "      <td>0.225660</td>\n",
       "    </tr>\n",
       "    <tr>\n",
       "      <th>Colorado</th>\n",
       "      <td>34.088514</td>\n",
       "      <td>6.021901</td>\n",
       "      <td>15.664517</td>\n",
       "      <td>0.700580</td>\n",
       "    </tr>\n",
       "    <tr>\n",
       "      <th>District Of Columbia</th>\n",
       "      <td>39.250864</td>\n",
       "      <td>21.382825</td>\n",
       "      <td>18.108037</td>\n",
       "      <td>0.813295</td>\n",
       "    </tr>\n",
       "    <tr>\n",
       "      <th>Florida</th>\n",
       "      <td>-8.101079</td>\n",
       "      <td>-13.414407</td>\n",
       "      <td>5.794945</td>\n",
       "      <td>0.245313</td>\n",
       "    </tr>\n",
       "  </tbody>\n",
       "</table>\n",
       "</div>"
      ],
      "text/plain": [
       "                            PC1        PC2   CO2_mean  CO2_mean_scaled\n",
       "State                                                                 \n",
       "Arizona               14.077757 -14.511895  10.938889         0.482594\n",
       "California           -10.334139  -7.896598   5.368893         0.225660\n",
       "Colorado              34.088514   6.021901  15.664517         0.700580\n",
       "District Of Columbia  39.250864  21.382825  18.108037         0.813295\n",
       "Florida               -8.101079 -13.414407   5.794945         0.245313"
      ]
     },
     "execution_count": 12,
     "metadata": {},
     "output_type": "execute_result"
    }
   ],
   "source": [
    "from sklearn.preprocessing import normalize\n",
    "    \n",
    "df_2d['CO2_mean'] = pd.Series(df2.mean(axis=1), index=df_2d.index)\n",
    "CO2_mean_max = df_2d['CO2_mean'].max()\n",
    "CO2_mean_min = df_2d['CO2_mean'].min()\n",
    "CO2_mean_scaled = (df_2d.CO2_mean-CO2_mean_min) / CO2_mean_max\n",
    "df_2d['CO2_mean_scaled'] = pd.Series(\n",
    "        CO2_mean_scaled, \n",
    "        index=df_2d.index) \n",
    "df_2d.head()"
   ]
  },
  {
   "cell_type": "code",
   "execution_count": 13,
   "metadata": {},
   "outputs": [
    {
     "data": {
      "text/plain": [
       "<matplotlib.axes._subplots.AxesSubplot at 0x2573e2b0>"
      ]
     },
     "execution_count": 13,
     "metadata": {},
     "output_type": "execute_result"
    },
    {
     "data": {
      "image/png": "[encoded data removed]",
      "text/plain": [
       "<matplotlib.figure.Figure at 0x2574b7f0>"
      ]
     },
     "metadata": {},
     "output_type": "display_data"
    }
   ],
   "source": [
    "df_2d.plot(\n",
    "    kind='scatter', \n",
    "    x='PC2', \n",
    "    y='PC1', \n",
    "    s=df_2d['CO2_mean_scaled']*100, \n",
    "    figsize=(12,7))"
   ]
  },
  {
   "cell_type": "markdown",
   "metadata": {},
   "source": [
    "+ Sum"
   ]
  },
  {
   "cell_type": "code",
   "execution_count": 14,
   "metadata": {},
   "outputs": [
    {
     "data": {
      "text/plain": [
       "<matplotlib.axes._subplots.AxesSubplot at 0x16d69ac8>"
      ]
     },
     "execution_count": 14,
     "metadata": {},
     "output_type": "execute_result"
    },
    {
     "data": {
      "image/png": "[encoded data removed]",
      "text/plain": [
       "<matplotlib.figure.Figure at 0x23785cc0>"
      ]
     },
     "metadata": {},
     "output_type": "display_data"
    }
   ],
   "source": [
    "df_2d['CO2_sum'] = pd.Series(df2.sum(axis=1), index=df_2d.index)\n",
    "CO2_sum_max = df_2d['CO2_sum'].max()\n",
    "CO2_sum_min = df_2d['CO2_sum'].min()\n",
    "CO2_sum_scaled = (df_2d.CO2_sum-CO2_sum_min) / CO2_sum_max\n",
    "df_2d['CO2_sum_scaled'] = pd.Series(\n",
    "        CO2_sum_scaled, \n",
    "        index=df_2d.index) \n",
    "df_2d.plot(\n",
    "    kind='scatter', \n",
    "    x='PC2', \n",
    "    y='PC1', \n",
    "    s=df_2d['CO2_sum_scaled']*100, \n",
    "    figsize=(12,7))"
   ]
  },
  {
   "cell_type": "markdown",
   "metadata": {},
   "source": [
    "The states are spread in the graph but there is a concentration at the bottom center. Performing a clustering algorithm on our findings can further categorize the states and group them in clusters. That's why we will perfom K-Means Clustering.\n"
   ]
  },
  {
   "cell_type": "markdown",
   "metadata": {},
   "source": [
    "# K-Means Clustering\n",
    "\n",
    " sklearn's k-means clustering implementation"
   ]
  },
  {
   "cell_type": "code",
   "execution_count": 15,
   "metadata": {},
   "outputs": [
    {
     "data": {
      "text/plain": [
       "<matplotlib.axes._subplots.AxesSubplot at 0x19dc79b0>"
      ]
     },
     "execution_count": 15,
     "metadata": {},
     "output_type": "execute_result"
    },
    {
     "data": {
      "image/png": "[encoded data removed]",
      "text/plain": [
       "<matplotlib.figure.Figure at 0x19dc7470>"
      ]
     },
     "metadata": {},
     "output_type": "display_data"
    }
   ],
   "source": [
    "from sklearn.cluster import KMeans\n",
    "import matplotlib.pyplot as plt\n",
    "from itertools import cycle, islice\n",
    "from matplotlib import cm\n",
    "\n",
    "\n",
    "#set the number of clusters: 3\n",
    "kmeans = KMeans(n_clusters=3)\n",
    "clusters = kmeans.fit(df2)\n",
    "df_2d['cluster'] = pd.Series(clusters.labels_, index=df_2d.index)\n",
    "color = cm.inferno_r(df_2d.cluster.astype(np.float)/4)\n",
    "\n",
    "df_2d.plot(kind='scatter',x='PC2',y='PC1',c=color, figsize=(12,6))\n"
   ]
  },
  {
   "cell_type": "markdown",
   "metadata": {},
   "source": [
    "<p>We've set the number of clusters to 3 so the result of the graph is 3 groups. </p>\n",
    "<ol>\n",
    "<li>Cluster top left --> RED</li>\n",
    "<li>Cluster Bottom Center --> Yellow</li>\n",
    "<li>Cluster top Right --> Orange</li>\n",
    "</ol>\n",
    "<p>Let's see which states actually belong to each cluster by printing them out</p>"
   ]
  },
  {
   "cell_type": "code",
   "execution_count": 16,
   "metadata": {},
   "outputs": [
    {
     "name": "stdout",
     "output_type": "stream",
     "text": [
      "Cluster  0\n",
      "Colorado\n",
      "District Of Columbia\n",
      "Illinois\n",
      "Kentucky\n",
      "Michigan\n",
      "New Jersey\n",
      "Pennsylvania\n",
      "\n",
      "Cluster  1\n",
      "California\n",
      "Florida\n",
      "Kansas\n",
      "North Carolina\n",
      "Oklahoma\n",
      "Virginia\n",
      "Massachusetts\n",
      "Nevada\n",
      "Tennessee\n",
      "South Carolina\n",
      "Iowa\n",
      "Maine\n",
      "Wisconsin\n",
      "Country Of Mexico\n",
      "Arkansas\n",
      "Oregon\n",
      "Wyoming\n",
      "North Dakota\n",
      "Idaho\n",
      "Ohio\n",
      "Georgia\n",
      "Hawaii\n",
      "Minnesota\n",
      "New Mexico\n",
      "Rhode Island\n",
      "South Dakota\n",
      "Washington\n",
      "Alaska\n",
      "\n",
      "Cluster  2\n",
      "Arizona\n",
      "Indiana\n",
      "Louisiana\n",
      "Missouri\n",
      "New York\n",
      "Texas\n",
      "New Hampshire\n",
      "Connecticut\n",
      "Maryland\n",
      "Delaware\n",
      "Utah\n",
      "Alabama\n",
      "\n"
     ]
    }
   ],
   "source": [
    "# snippet of code taken from @thepolina from stack overflow\n",
    "# Souce https://stackoverflow.com/questions/29799053/how-to-print-result-of-clustering-in-sklearn\n",
    "\n",
    "labels = kmeans.predict(df2)\n",
    "clusters = {}\n",
    "n = 0\n",
    "\n",
    "# associate each state to a cluster\n",
    "for item in labels:\n",
    "    if item in clusters:\n",
    "        clusters[item].append(df2.index[n])\n",
    "    else:\n",
    "        clusters[item] = [df2.index[n]]\n",
    "    n +=1\n",
    "\n",
    "# print the cluster\n",
    "for item in clusters:\n",
    "    print \"Cluster \", item\n",
    "    for i in clusters[item]:\n",
    "        print i\n",
    "    print "
   ]
  },
  {
   "cell_type": "markdown",
   "metadata": {
    "collapsed": true
   },
   "source": [
    "So we needed to perfor PCA or a dimensionality reduction algorith on the datset before using the the K-means algorithms, otherwise this ML algorithm would not have worked on our high dimensionality dataset."
   ]
  },
  {
   "cell_type": "code",
   "execution_count": null,
   "metadata": {
    "collapsed": true
   },
   "outputs": [],
   "source": []
  },
  {
   "cell_type": "code",
   "execution_count": null,
   "metadata": {
    "collapsed": true
   },
   "outputs": [],
   "source": []
  }
 ],
 "metadata": {
  "kernelspec": {
   "display_name": "Python 2",
   "language": "python",
   "name": "python2"
  },
  "language_info": {
   "codemirror_mode": {
    "name": "ipython",
    "version": 2
   },
   "file_extension": ".py",
   "mimetype": "text/x-python",
   "name": "python",
   "nbconvert_exporter": "python",
   "pygments_lexer": "ipython2",
   "version": "2.7.14"
  }
 },
 "nbformat": 4,
 "nbformat_minor": 2
}
