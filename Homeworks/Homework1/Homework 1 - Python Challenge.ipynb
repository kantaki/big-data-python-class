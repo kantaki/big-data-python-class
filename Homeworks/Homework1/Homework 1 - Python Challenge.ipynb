{
 "cells": [
  {
   "cell_type": "markdown",
   "metadata": {},
   "source": [
    "# Python Homework 1 - The challenge\n",
    "\n",
    "Take the python challenge found on www.pythonchallenge.com/.\n",
    "You will copy this notebook.  Rename it as:\n",
    "YOURLASTNAME-FIRSTINITIAL-python-challenge-xx-Sept-2017\n",
    "\n",
    "with your name replacing your last name and first initial and the xx replaced by the date you started or submitted.\n",
    "\n",
    "Do the first 10 challenges and put each question and your python solution and the final resulting url in this notebook or a series of connected notebooks.\n",
    "Discuss your attempt what parts of python were you using.\n",
    "\n",
    "Upload your completed jupyter notebook zip file to elearning site as your homework submission.  Do not put this notebook on your github.\n",
    "\n",
    " Note: 3 points for 10 correct answers...  4 points for 15 and 5 points for all 33 "


   ]
  },
  {
   "cell_type": "markdown",
   "metadata": {},
   "source": [
    "\n",
    "##Python challenge question 1"
   ]
  },
  {
   "cell_type": "code",
   "execution_count": null,
   "metadata": {
    "collapsed": true
   },
   "outputs": [],
   "source": []
  },
  {
   "cell_type": "markdown",
   "metadata": {},
   "source": [
    "##Python challenge question 2"
   ]
  },
  {
   "cell_type": "code",
   "execution_count": null,
   "metadata": {
    "collapsed": true
   },
   "outputs": [],
   "source": []
  },
  {
   "cell_type": "markdown",
   "metadata": {},
   "source": [
    "##Python challenge question 3"
   ]
  },
  {
   "cell_type": "code",
   "execution_count": null,
   "metadata": {
    "collapsed": true
   },
   "outputs": [],
   "source": []
  },
  {
   "cell_type": "markdown",
   "metadata": {},
   "source": [
    "##Python challenge question 4"
   ]
  },
  {
   "cell_type": "code",
   "execution_count": null,
   "metadata": {
    "collapsed": true
   },
   "outputs": [],
   "source": []
  },
  {
   "cell_type": "markdown",
   "metadata": {},
   "source": [
    "##Python challenge question 5"
   ]
  },
  {
   "cell_type": "code",
   "execution_count": null,
   "metadata": {
    "collapsed": true
   },
   "outputs": [],
   "source": []
  }
 ],
 "metadata": {
  "kernelspec": {
   "display_name": "Python 2",
   "language": "python",
   "name": "python2"
  },
  "language_info": {
   "codemirror_mode": {
    "name": "ipython",
    "version": 2
   },
   "file_extension": ".py",
   "mimetype": "text/x-python",
   "name": "python",
   "nbconvert_exporter": "python",
   "pygments_lexer": "ipython2",
   "version": "2.7.10"
  }
 },
 "nbformat": 4,
 "nbformat_minor": 0
}
