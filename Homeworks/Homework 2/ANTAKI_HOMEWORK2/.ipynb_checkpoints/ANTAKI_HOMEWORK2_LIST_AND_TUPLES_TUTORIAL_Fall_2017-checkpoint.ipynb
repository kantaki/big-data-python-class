{
 "cells": [
  {
   "cell_type": "markdown",
   "metadata": {},
   "source": [
    "# Python Tutorials"
   ]
  },
  {
   "cell_type": "markdown",
   "metadata": {},
   "source": [
    "A. The difference between python lists and tuples\n",
    "\n",
    "Lists are collections of data … more often homogenous or of more limited ranges of types. \n",
    "The notion of tuple as a “record type” … sort of a lightweight object with attributes but no methods \n",
    "The difference between list and tuple is that lists are mutable and tuples are immutable.\n",
    "\n",
    "Show how to use them in:\n",
    "\n",
    "1) if statements\n",
    "2) for loops\n",
    "3) lambdas\n",
    "\n",
    "be sure to demonstrate mutablity or immuability and issues that can be created"
   ]
  },
  {
   "cell_type": "markdown",
   "metadata": {},
   "source": [
    "# Lists Versus Tuples\n",
    "Tuples are used to collect an immutable ordered list of elements. This means that:\n",
    "You can’t add elements to a tuple. There’s no append() or extend() method for tuples,\n",
    "You can’t remove elements from a tuple. Tuples have no remove() or pop() method,\n",
    "You can find elements in a tuple since this doesn’t change the tuple.\n",
    "You can also use the in operator to check if an element exists in the tuple.\n",
    "\n",
    "https://www.datacamp.com/community/tutorials/18-most-common-python-list-questions-learn-python#question1"
   ]
  },
  {
   "cell_type": "markdown",
   "metadata": {},
   "source": [
    "## Lists\n",
    "Data type that holds an ordered collection of values, which can be of any type. \n",
    "Lists are Python's ordered mutable data type. \n",
    "Unlike tuples, lists can be modified in-place.\n",
    "\n",
    "https://www.codecademy.com/articles/glossary-python"
   ]
  },
  {
   "cell_type": "markdown",
   "metadata": {},
   "source": [
    "# Creating a List"
   ]
  },
  {
   "cell_type": "code",
   "execution_count": 1,
   "metadata": {},
   "outputs": [
    {
     "name": "stdout",
     "output_type": "stream",
     "text": [
      "[]\n",
      "['lion', 'zebra', 'monkey']\n",
      "['Alabama', ' California', ' New York']\n",
      "['A', 'l', 'a', 'b', 'a', 'm', 'a', ',', ' ', 'C', 'a', 'l', 'i', 'f', 'o', 'r', 'n', 'i', 'a', ',', ' ', 'N', 'e', 'w', ' ', 'Y', 'o', 'r', 'k']\n"
     ]
    }
   ],
   "source": [
    "# creates an empty list\n",
    "l1 = []\n",
    "print l1\n",
    "\n",
    "# instantiate list\n",
    "zooAnimals = ['lion', 'zebra', 'monkey']\n",
    "print zooAnimals\n",
    "\n",
    "# list from String\n",
    "states = 'Alabama, California, New York'\n",
    "l2 = states.split(',') # on a delimeter \n",
    "print l2\n",
    "\n",
    "# List all the characters using list()\n",
    "state =  'Alabama, California, New York'\n",
    "l3 = list(state)\n",
    "print l3"
   ]
  },
  {
   "cell_type": "markdown",
   "metadata": {},
   "source": [
    "## Tuples\n",
    "A tuple is defined in the same way as a list, except that the whole set of elements is enclosed in parentheses instead of square brackets. \n",
    " \n",
    "The elements of a tuple have a defined order, just like a list. Tuples indices are zero-based, just like a list, so the first element of a non-empty tuple is always t[0]. \n",
    " \n",
    "Negative indices count from the end of the tuple, just as with a list."
   ]
  },
  {
   "cell_type": "markdown",
   "metadata": {},
   "source": [
    "# Creating a Tuple\n",
    "\n",
    "Tuples\n",
    "Data type that holds an ordered collection of values, which can be of any type. Tuples are \"immutable\", meaning that they cannot be changed once created.\n",
    "\n",
    "https://www.codecademy.com/articles/glossary-python"
   ]
  },
  {
   "cell_type": "code",
   "execution_count": 2,
   "metadata": {},
   "outputs": [
    {
     "name": "stdout",
     "output_type": "stream",
     "text": [
      "()\n",
      "(50,)\n",
      "(11, 22, 33)\n",
      "('a', 'b', 'c')\n"
     ]
    }
   ],
   "source": [
    "# creates an empty tuple\n",
    "t1 = ()\n",
    "print t1\n",
    "\n",
    "#To write a tuple containing a single value you have to include a comma, even though there is only one value \n",
    "tup1 = (50,);\n",
    "print tup1\n",
    "\n",
    "# instantiate tuple\n",
    "t2 = (11,22,33)\n",
    "print t2\n",
    "\n",
    "# tuple from string\n",
    "t4 = tuple(\"abc\") \n",
    "print t4"
   ]
  },
  {
   "cell_type": "markdown",
   "metadata": {},
   "source": [
    "## Tuple Assignment\n",
    "Tuples can be expanded into variables easily"
   ]
  },
  {
   "cell_type": "code",
   "execution_count": 3,
   "metadata": {
    "collapsed": true
   },
   "outputs": [],
   "source": [
    "name, age = (\"Alice\", 19)\n",
    "# Now name has the value \"Alice\" and age has the value 19"
   ]
  },
  {
   "cell_type": "markdown",
   "metadata": {},
   "source": [
    "# Tuples/Lists functions"
   ]
  },
  {
   "cell_type": "code",
   "execution_count": 4,
   "metadata": {},
   "outputs": [
    {
     "name": "stdout",
     "output_type": "stream",
     "text": [
      "1\n",
      "81\n",
      "161\n",
      "5\n"
     ]
    }
   ],
   "source": [
    "t1 = (1, 12, 55, 12, 81) \n",
    "print min(t1) # returns minimum of a tuple\n",
    "\n",
    "print max(t1) # returns max of a tuple\n",
    "\n",
    "print sum(t1) # returns sum of all elements in tuple\n",
    "\n",
    "print len(t1) # returns length of the tuple\n"
   ]
  },
  {
   "cell_type": "code",
   "execution_count": 5,
   "metadata": {},
   "outputs": [
    {
     "name": "stdout",
     "output_type": "stream",
     "text": [
      "1\n",
      "b\n",
      "7\n"
     ]
    }
   ],
   "source": [
    "l1 = [1, 12, 55, 12, 81, 'a', 'b'] \n",
    "print min(l1) #returns 1 compares ascii when list contains numbers and letters \n",
    "\n",
    "print max(l1) # returns 'b' compares ascii of each element\n",
    "\n",
    "#sum(l1) #this list contain both numbers and letter the sum will create an error\n",
    "\n",
    "print len(l1) #returns "
   ]
  },
  {
   "cell_type": "markdown",
   "metadata": {},
   "source": [
    "# Tuples Have No Methods"
   ]
  },
  {
   "cell_type": "code",
   "execution_count": 6,
   "metadata": {},
   "outputs": [
    {
     "ename": "AttributeError",
     "evalue": "'tuple' object has no attribute 'append'",
     "output_type": "error",
     "traceback": [
      "\u001b[1;31m---------------------------------------------------------------------------\u001b[0m",
      "\u001b[1;31mAttributeError\u001b[0m                            Traceback (most recent call last)",
      "\u001b[1;32m<ipython-input-6-9fa2e183ba9a>\u001b[0m in \u001b[0;36m<module>\u001b[1;34m()\u001b[0m\n\u001b[0;32m      1\u001b[0m \u001b[0mt\u001b[0m \u001b[1;33m=\u001b[0m \u001b[1;33m(\u001b[0m\u001b[1;34m'a'\u001b[0m\u001b[1;33m,\u001b[0m \u001b[1;34m'b'\u001b[0m\u001b[1;33m,\u001b[0m \u001b[1;34m'mpilgrim'\u001b[0m\u001b[1;33m,\u001b[0m \u001b[1;34m'z'\u001b[0m\u001b[1;33m,\u001b[0m \u001b[1;34m'example'\u001b[0m\u001b[1;33m)\u001b[0m\u001b[1;33m\u001b[0m\u001b[0m\n\u001b[0;32m      2\u001b[0m \u001b[1;33m\u001b[0m\u001b[0m\n\u001b[1;32m----> 3\u001b[1;33m \u001b[0mt\u001b[0m\u001b[1;33m.\u001b[0m\u001b[0mappend\u001b[0m\u001b[1;33m(\u001b[0m\u001b[1;34m\"new\"\u001b[0m\u001b[1;33m)\u001b[0m    \u001b[1;31m#AttributeError: 'tuple' object has no attribute 'append'\u001b[0m\u001b[1;33m\u001b[0m\u001b[0m\n\u001b[0m\u001b[0;32m      4\u001b[0m \u001b[1;33m\u001b[0m\u001b[0m\n\u001b[0;32m      5\u001b[0m \u001b[0mt\u001b[0m\u001b[1;33m.\u001b[0m\u001b[0mremove\u001b[0m\u001b[1;33m(\u001b[0m\u001b[1;34m\"z\"\u001b[0m\u001b[1;33m)\u001b[0m      \u001b[1;31m#'tuple' object has no attribute 'remove'\u001b[0m\u001b[1;33m\u001b[0m\u001b[0m\n",
      "\u001b[1;31mAttributeError\u001b[0m: 'tuple' object has no attribute 'append'"
     ]
    }
   ],
   "source": [
    "t = ('a', 'b', 'mpilgrim', 'z', 'example')\n",
    "\n",
    "t.append(\"new\")    #AttributeError: 'tuple' object has no attribute 'append'\n",
    "\n",
    "t.remove(\"z\")      #'tuple' object has no attribute 'remove'\n",
    "\n",
    "t.index(\"example\") # 'tuple' object has no attribute 'index'\n",
    "         \n"
   ]
  },
  {
   "cell_type": "markdown",
   "metadata": {},
   "source": [
    "# Accessing elements"
   ]
  },
  {
   "cell_type": "code",
   "execution_count": 7,
   "metadata": {},
   "outputs": [
    {
     "name": "stdout",
     "output_type": "stream",
     "text": [
      "lion\n",
      "lion\n"
     ]
    }
   ],
   "source": [
    "# Lists and Tuples access elements in the same way\n",
    "zooAnimalsList = ['lion', 'zebra', 'monkey']\n",
    "zooAnimalsTuple = ('lion', 'zebra', 'monkey')\n",
    "firstList = zooAnimalsList[0]\n",
    "firstTuple = zooAnimalsTuple[0]\n",
    "print firstList\n",
    "print firstTuple"
   ]
  },
  {
   "cell_type": "markdown",
   "metadata": {},
   "source": [
    "## Updating Elements\n",
    "\n",
    "mutable means 'able to be changed', immutable is its reverse 'constant'\n",
    "\n",
    "https://mail.python.org/pipermail/tutor/2000-August/001976.html"
   ]
  },
  {
   "cell_type": "code",
   "execution_count": 8,
   "metadata": {},
   "outputs": [
    {
     "data": {
      "text/plain": [
       "[4, 2, 3]"
      ]
     },
     "execution_count": 8,
     "metadata": {},
     "output_type": "execute_result"
    }
   ],
   "source": [
    "# lists are mutable\n",
    "list1 = [1, 2, 3]\n",
    "list1[0] = 4\n",
    "list1\n",
    "[4, 2, 3]"
   ]
  },
  {
   "cell_type": "code",
   "execution_count": 9,
   "metadata": {},
   "outputs": [
    {
     "ename": "TypeError",
     "evalue": "'tuple' object does not support item assignment",
     "output_type": "error",
     "traceback": [
      "\u001b[1;31m---------------------------------------------------------------------------\u001b[0m",
      "\u001b[1;31mTypeError\u001b[0m                                 Traceback (most recent call last)",
      "\u001b[1;32m<ipython-input-9-8af61ecfd552>\u001b[0m in \u001b[0;36m<module>\u001b[1;34m()\u001b[0m\n\u001b[0;32m      1\u001b[0m \u001b[1;31m# tuples are not\u001b[0m\u001b[1;33m\u001b[0m\u001b[1;33m\u001b[0m\u001b[0m\n\u001b[0;32m      2\u001b[0m \u001b[0mtuple1\u001b[0m \u001b[1;33m=\u001b[0m \u001b[1;33m(\u001b[0m\u001b[1;36m1\u001b[0m\u001b[1;33m,\u001b[0m \u001b[1;36m2\u001b[0m\u001b[1;33m,\u001b[0m \u001b[1;36m3\u001b[0m\u001b[1;33m)\u001b[0m\u001b[1;33m\u001b[0m\u001b[0m\n\u001b[1;32m----> 3\u001b[1;33m \u001b[0mtuple1\u001b[0m\u001b[1;33m[\u001b[0m\u001b[1;36m0\u001b[0m\u001b[1;33m]\u001b[0m \u001b[1;33m=\u001b[0m \u001b[1;36m4\u001b[0m \u001b[1;31m#TypeError: object doesn't support item assignment\u001b[0m\u001b[1;33m\u001b[0m\u001b[0m\n\u001b[0m",
      "\u001b[1;31mTypeError\u001b[0m: 'tuple' object does not support item assignment"
     ]
    }
   ],
   "source": [
    "# tuples are not\n",
    "tuple1 = (1, 2, 3)\n",
    "tuple1[0] = 4 #TypeError: object doesn't support item assignment"
   ]
  },
  {
   "cell_type": "markdown",
   "metadata": {},
   "source": [
    "#### List slice Assignment\n",
    "\n",
    "update part of a list\n",
    "\n",
    "http://thepythonguru.com/python-lists/"
   ]
  },
  {
   "cell_type": "code",
   "execution_count": 10,
   "metadata": {},
   "outputs": [
    {
     "data": {
      "text/plain": [
       "[1, 2, 0, 0, 4, 5]"
      ]
     },
     "execution_count": 10,
     "metadata": {},
     "output_type": "execute_result"
    }
   ],
   "source": [
    "a = [1, 2, 3, 4, 5]\n",
    "a[2:3] = [0, 0]\n",
    "a"
   ]
  },
  {
   "cell_type": "markdown",
   "metadata": {},
   "source": [
    "###### 'Benefit for having mutable and immutable types'\n",
    "\n",
    "The reason for having both a constant\n",
    "data type and a mutable one is two fold: speed and expressability.\n",
    "\n",
    "Sometimes while coding an algorithm has parts which will not change -- constant\n",
    "coefficients, the value of pi, etc.  The language, Python, allows you to reflect this\n",
    "and avoid accidental changing of these values with immutable types.\n",
    "\n",
    "https://mail.python.org/pipermail/tutor/2000-August/001976.html"
   ]
  },
  {
   "cell_type": "markdown",
   "metadata": {},
   "source": [
    "# Concatination"
   ]
  },
  {
   "cell_type": "code",
   "execution_count": 11,
   "metadata": {},
   "outputs": [
    {
     "name": "stdout",
     "output_type": "stream",
     "text": [
      "['a', 'b', 1, 2, [4, 5]]\n",
      "['a', 'b', 1, 2, 3, 4, 5]\n",
      "['a', 'b', 1, 2, 3, 4, 5, 'beans']\n"
     ]
    }
   ],
   "source": [
    "shortList = ['a','b', 1, 2]\n",
    "longerList = ['a','b', 1, 2, 3]\n",
    "\n",
    "# Append [4,5] to `shortList`\n",
    "shortList.append([4, 5])\n",
    "print(shortList)\n",
    "\n",
    "# Extend `longerList` with [4,5]\n",
    "longerList.extend([4, 5])\n",
    "print(longerList)\n",
    "\n",
    "# or use '+'\n",
    "\n",
    "longerList += ['beans']\n",
    "print longerList"
   ]
  },
  {
   "cell_type": "code",
   "execution_count": 12,
   "metadata": {},
   "outputs": [
    {
     "name": "stdout",
     "output_type": "stream",
     "text": [
      "('blue coral', 'staghorn coral', 'pillar coral', 'elkhorn coral', 'wakame', 'alaria', 'deep-sea tangle', 'macrocystis')\n"
     ]
    }
   ],
   "source": [
    "coral = ('blue coral', 'staghorn coral', 'pillar coral', 'elkhorn coral')\n",
    "kelp = ('wakame', 'alaria', 'deep-sea tangle', 'macrocystis')\n",
    "\n",
    "coral_kelp = (coral + kelp)\n",
    "\n",
    "print(coral_kelp)"
   ]
  },
  {
   "cell_type": "markdown",
   "metadata": {},
   "source": [
    "+ '+'operator can concatenate, it can be used to combine tuples to form a new tuple\n",
    "+ though it cannot modify an existing tuple.\n",
    "The '*' operator can be used to multiply tuples.\n",
    "\n",
    "https://www.digitalocean.com/community/tutorials/understanding-tuples-in-python-3"
   ]
  },
  {
   "cell_type": "code",
   "execution_count": 13,
   "metadata": {},
   "outputs": [
    {
     "name": "stdout",
     "output_type": "stream",
     "text": [
      "('blue coral', 'staghorn coral', 'pillar coral', 'elkhorn coral')\n",
      "('blue coral', 'staghorn coral', 'pillar coral', 'elkhorn coral', 'blue coral', 'staghorn coral', 'pillar coral', 'elkhorn coral')\n"
     ]
    }
   ],
   "source": [
    "coral = ('blue coral', 'staghorn coral', 'pillar coral', 'elkhorn coral')\n",
    "\n",
    "\n",
    "multiplied_coral = coral * 2\n",
    "\n",
    "print coral\n",
    "print(multiplied_coral)"
   ]
  },
  {
   "cell_type": "markdown",
   "metadata": {},
   "source": [
    "## Deleting \n",
    "\n",
    "### in lists use del or .remove()\n",
    "### Removing individual tuple elements is not possible."
   ]
  },
  {
   "cell_type": "code",
   "execution_count": 14,
   "metadata": {},
   "outputs": [
    {
     "name": "stdout",
     "output_type": "stream",
     "text": [
      "['hello', 'world', 2017, 2018]\n",
      "['hello', 'world', 2018]\n",
      "['world', 2018]\n"
     ]
    }
   ],
   "source": [
    "# List\n",
    "list1 = ['hello', 'world', 2017, 2018]\n",
    "print list1\n",
    "del list1[2] #use del with indices\n",
    "print list1\n",
    "list1.remove('hello') #use remove with element\n",
    "print list1"
   ]
  },
  {
   "cell_type": "markdown",
   "metadata": {},
   "source": [
    "# Sorting\n",
    "\n"
   ]
  },
  {
   "cell_type": "code",
   "execution_count": 15,
   "metadata": {},
   "outputs": [
    {
     "name": "stdout",
     "output_type": "stream",
     "text": [
      "[1, 20, 5]\n",
      "['a', 'z', 'b']\n",
      "[1, 20, 5, 'a', 'z', 'b']\n"
     ]
    }
   ],
   "source": [
    "numList = [1,20,5]\n",
    "charList = ['a','z','b']\n",
    "allList = numList + charList\n",
    "\n",
    "#sort\n",
    "numList.sort\n",
    "charList.sort\n",
    "allList.sort\n",
    "\n",
    "print numList   #ascending\n",
    "print charList  #alphabetically\n",
    "print allList   #ascii code\n"
   ]
  },
  {
   "cell_type": "markdown",
   "metadata": {},
   "source": [
    "#### Sorting Tuples\n",
    "Since tuples are arrays that you cannot modify, they don't have an in-place sort function that can be called directly on them. They must always use the sorted function to return a sorted list. Keeping that in mind, here's how to do it:\n",
    "\n",
    "http://pythoncentral.io/how-to-sort-a-list-tuple-or-object-with-sorted-in-python/"
   ]
  },
  {
   "cell_type": "code",
   "execution_count": 16,
   "metadata": {},
   "outputs": [
    {
     "data": {
      "text/plain": [
       "[1, 2, 3, 6, 8, 9, 23, 45, 78]"
      ]
     },
     "execution_count": 16,
     "metadata": {},
     "output_type": "execute_result"
    }
   ],
   "source": [
    "tup = (3, 6, 8, 2, 78, 1, 23, 45, 9)\n",
    "sorted(tup)"
   ]
  },
  {
   "cell_type": "markdown",
   "metadata": {},
   "source": [
    "# Conditionals"
   ]
  },
  {
   "cell_type": "markdown",
   "metadata": {},
   "source": [
    "#### Finding elements"
   ]
  },
  {
   "cell_type": "code",
   "execution_count": 17,
   "metadata": {},
   "outputs": [
    {
     "name": "stdout",
     "output_type": "stream",
     "text": [
      "True\n",
      "False\n"
     ]
    }
   ],
   "source": [
    "#for both tuples and lists: (not in - in)\n",
    "\n",
    "tuples1 = (\"z\",\"a\",\"d\")\n",
    "lists1 = [\"z\",\"a\",\"d\"]\n",
    "\n",
    "print \"z\" in tuples1\n",
    "print \"z\" not in lists1"
   ]
  },
  {
   "cell_type": "markdown",
   "metadata": {},
   "source": [
    "### Slicing"
   ]
  },
  {
   "cell_type": "code",
   "execution_count": 18,
   "metadata": {},
   "outputs": [
    {
     "name": "stdout",
     "output_type": "stream",
     "text": [
      "(11, 22)\n",
      "[11, 22]\n"
     ]
    }
   ],
   "source": [
    "# Slicing operators works same in tuples as in list\n",
    "t = (11,22,33,44,55)\n",
    "l = [11,22,33,44,55]\n",
    "print t[0:2]\n",
    "print l[0:2]"
   ]
  },
  {
   "cell_type": "markdown",
   "metadata": {},
   "source": [
    "### if statement"
   ]
  },
  {
   "cell_type": "code",
   "execution_count": 19,
   "metadata": {},
   "outputs": [
    {
     "name": "stdout",
     "output_type": "stream",
     "text": [
      "True\n",
      "True\n"
     ]
    }
   ],
   "source": [
    "# check for element in list or tuple\n",
    "gradeList = ['A+', 'A-', 'A', 'B+', 'B-', 'B']\n",
    "if 'A' in gradeList:\n",
    "    print True\n",
    "    \n",
    "gradeTuple = ('A+', 'A-', 'A', 'B+', 'B-', 'B')\n",
    "if 'A' in gradeTuple:\n",
    "    print True"
   ]
  },
  {
   "cell_type": "markdown",
   "metadata": {},
   "source": [
    "## Iterating"
   ]
  },
  {
   "cell_type": "markdown",
   "metadata": {},
   "source": [
    "Tuples and Lists are iterable using for loop "
   ]
  },
  {
   "cell_type": "code",
   "execution_count": 20,
   "metadata": {},
   "outputs": [
    {
     "name": "stdout",
     "output_type": "stream",
     "text": [
      "11 22 33 44 55\n"
     ]
    }
   ],
   "source": [
    "#tuples\n",
    "t = (11,22,33,44,55)\n",
    "for element in t:\n",
    "    print element, # add , for same line printing\n",
    "    "
   ]
  },
  {
   "cell_type": "code",
   "execution_count": 21,
   "metadata": {},
   "outputs": [
    {
     "name": "stdout",
     "output_type": "stream",
     "text": [
      "1 2 3 4 5 6 7\n"
     ]
    }
   ],
   "source": [
    "#lists\n",
    "numList = [1,2,3,4,5,6,7]\n",
    "\n",
    "for element in numList:\n",
    "    print element,"
   ]
  },
  {
   "cell_type": "markdown",
   "metadata": {},
   "source": [
    "#### Using for loops example"
   ]
  },
  {
   "cell_type": "code",
   "execution_count": 22,
   "metadata": {},
   "outputs": [
    {
     "name": "stdout",
     "output_type": "stream",
     "text": [
      "['A+', 'A-', 'A']\n",
      "[2, 4, 6]\n"
     ]
    }
   ],
   "source": [
    "# check for element in list generate new List\n",
    "gradeList = ['A+', 'A-', 'A', 'B+', 'B-', 'B']\n",
    "A_list = [grade for grade in gradeList if ('A' in grade)]\n",
    "\n",
    "print A_list\n",
    "\n",
    "# create list from list\n",
    "numList = [1,2,3,4,5,6,7]\n",
    "evenList = [num for num in numList if (num % 2 == 0)] #Note that all elements in this list have to be integer to be % by 2\n",
    "\n",
    "print evenList"
   ]
  },
  {
   "cell_type": "markdown",
   "metadata": {},
   "source": [
    "# Lambda Function"
   ]
  },
  {
   "cell_type": "code",
   "execution_count": 23,
   "metadata": {},
   "outputs": [
    {
     "data": {
      "text/plain": [
       "[0, 1, 4, 9, 16, 25, 36, 49, 64, 81]"
      ]
     },
     "execution_count": 23,
     "metadata": {},
     "output_type": "execute_result"
    }
   ],
   "source": [
    "# using lambda is similar to a conditional statement\n",
    "# apply a conditon to all elements \n",
    "f = lambda x: x*x\n",
    "[f(x) for x in range(10)]"
   ]
  },
  {
   "cell_type": "code",
   "execution_count": 24,
   "metadata": {},
   "outputs": [
    {
     "data": {
      "text/plain": [
       "[1, 4, 9, 16, 25, 36, 49, 64, 81, 100]"
      ]
     },
     "execution_count": 24,
     "metadata": {},
     "output_type": "execute_result"
    }
   ],
   "source": [
    "# create new list from a list and apply it some conditions\n",
    "myList = [1, 2, 3, 4, 5, 6, 7, 8, 9, 10]\n",
    "[(lambda x: x*x)(x) for x in myList]"
   ]
  },
  {
   "cell_type": "markdown",
   "metadata": {
    "collapsed": true
   },
   "source": [
    "## Map function\n",
    "\n",
    "The map() function applies a function to every member of an iterable and returns the result.\n",
    "map() needs two arguments. First a function name and second something iterable (like a list)\n"
   ]
  },
  {
   "cell_type": "code",
   "execution_count": 25,
   "metadata": {},
   "outputs": [
    {
     "name": "stdout",
     "output_type": "stream",
     "text": [
      "[1, 4, 9, 16]\n"
     ]
    }
   ],
   "source": [
    "numList = [1,2,3,4]\n",
    "def square(x):\n",
    "    return x**2\n",
    "\n",
    "squares = map(square, numList)\n",
    "print squares"
   ]
  },
  {
   "cell_type": "markdown",
   "metadata": {},
   "source": [
    "## Using lambda and map together"
   ]
  },
  {
   "cell_type": "code",
   "execution_count": 26,
   "metadata": {},
   "outputs": [
    {
     "name": "stdout",
     "output_type": "stream",
     "text": [
      "[1, 4, 9, 16]\n"
     ]
    }
   ],
   "source": [
    "my_list = [1,2,3,4]\n",
    "squares = map(lambda x: x**2, my_list)\n",
    "print squares"
   ]
  },
  {
   "cell_type": "code",
   "execution_count": 27,
   "metadata": {},
   "outputs": [
    {
     "name": "stdout",
     "output_type": "stream",
     "text": [
      "[1, 4, 9, 16]\n"
     ]
    }
   ],
   "source": [
    "my_tuple = (1,2,3,4)\n",
    "squares = map(lambda x: x**2, my_tuple)\n",
    "print squares"
   ]
  },
  {
   "cell_type": "markdown",
   "metadata": {},
   "source": [
    "## Filter Function\n",
    "\n",
    "Filter takes a function returning True or False and applies it to a sequence\n",
    "returning a list of only those members of the sequence for which the function returned True\n",
    "\n",
    "http://www.u.arizona.edu/~erdmann/mse350/topics/list_comprehensions.html"
   ]
  },
  {
   "cell_type": "code",
   "execution_count": 28,
   "metadata": {},
   "outputs": [
    {
     "name": "stdout",
     "output_type": "stream",
     "text": [
      "[9, 16, 25, 36, 49]\n"
     ]
    }
   ],
   "source": [
    "squares = map(lambda x: x**2, range(10))\n",
    "special_squares = filter(lambda x: x > 5 and x < 50, squares)\n",
    "print special_squares"
   ]
  },
  {
   "cell_type": "markdown",
   "metadata": {},
   "source": [
    "## Random Generator\n",
    "\n",
    "+ randrange(a, b) chooses an integer in the range [a, b).\n",
    "+ uniform(a, b) chooses a floating point number in the range [a, b).\n",
    "+ normalvariate(mean, sdev) samples the normal (Gaussian) distribution.\n",
    "\n",
    "http://www.effbot.org/pyfaq/how-do-i-generate-random-numbers-in-python.htm"
   ]
  },
  {
   "cell_type": "code",
   "execution_count": 29,
   "metadata": {},
   "outputs": [
    {
     "name": "stdout",
     "output_type": "stream",
     "text": [
      "0.514138975038\n"
     ]
    }
   ],
   "source": [
    "#Need to import module\n",
    "import random\n",
    "print random.random() ##prints random number"
   ]
  },
  {
   "cell_type": "markdown",
   "metadata": {},
   "source": [
    "## Using lambda and Random"
   ]
  },
  {
   "cell_type": "code",
   "execution_count": 30,
   "metadata": {},
   "outputs": [
    {
     "data": {
      "text/plain": [
       "[0.1336194763680154, 0.8002762299067482, 0.3090438558810328]"
      ]
     },
     "execution_count": 30,
     "metadata": {},
     "output_type": "execute_result"
    }
   ],
   "source": [
    "from random import random\n",
    "\n",
    "## generates a list of 3 random numbers\n",
    "fill =lambda f,n: [f() for i in xrange(n)]\n",
    "fill(random , 3 )"
   ]
  },
  {
   "cell_type": "markdown",
   "metadata": {},
   "source": [
    "## Useful lists\n",
    "\n",
    "#Use getcwd() to get the current work directory in python 2 (or ('.'))\n",
    "get all files in current work directory\n",
    "\n",
    "https://stackoverflow.com/questions/3207219/how-do-i-list-all-files-of-a-directory"
   ]
  },
  {
   "cell_type": "code",
   "execution_count": 31,
   "metadata": {},
   "outputs": [
    {
     "data": {
      "text/plain": [
       "['.ipynb_checkpoints',\n",
       " 'ANTAKI_HOMEWORK2_DICTIONARY_TUTORIAL_Fall_2017.ipynb',\n",
       " 'ANTAKI_HOMEWORK2_FILE_MANIPULATION_TUTORIAL_Fall_2017.ipynb',\n",
       " 'ANTAKI_HOMEWORK2_LIST_AND_TUPLES_TUTORIAL_Fall_2017-Copy1.ipynb',\n",
       " 'dataTrain.csv',\n",
       " 'newfile.txt',\n",
       " 'testing.txt']"
      ]
     },
     "execution_count": 31,
     "metadata": {},
     "output_type": "execute_result"
    }
   ],
   "source": [
    "import os\n",
    "mylist = os.listdir(os.getcwd())\n",
    "mylist"
   ]
  },
  {
   "cell_type": "markdown",
   "metadata": {},
   "source": [
    "## what are tuples good for?\n",
    "###### Tuples are faster than lists. \n",
    "For iterations, use a tuple instead of a list. \n",
    "###### It makes your code safer \n",
    "if you “write-protect” data that does not need to be changed. Using a tuple instead of a list is like having an implied assert statement that shows this data is constant, and that special thought (and a specific function) is required to override that. \n",
    "Tuples are one of those types: integers, strings, and “a few other types\". \n",
    "\n",
    "###### Tuples can be used as keys in a dictionary\n",
    "but lists can't be used this way. Dictionary keys must be immutable. Tuples themselves are immutable, but if you have a tuple of lists, that counts as mutable and isn't safe to use as a dictionary key. Only tuples of strings, numbers, or other dictionary-safe tuples can be used as dictionary keys. \n",
    "\n",
    "###### Tuples are used in string formatting\n",
    "\n",
    "Tuples can be converted into lists, and vice-versa. The built-in tuple function takes a list and returns a tuple with the same elements, and the list function takes a tuple and returns a list. In effect, tuple freezes a list, and list thaws a tuple.\n",
    "\n",
    "http://www.diveintopython.net/native_data_types/tuples.html"
   ]
  },
  {
   "cell_type": "markdown",
   "metadata": {},
   "source": [
    "# Regex\n",
    "\n",
    "+ A regular expression is a special sequence of characters that helps you match or find other strings or sets of strings, using a specialized syntax held in a pattern. Regular expressions are widely used in UNIX world.\n",
    "\n",
    "+ the findall method returns a list \n",
    "\n",
    "https://www.tutorialspoint.com/python/python_reg_expressions.htm"
   ]
  },
  {
   "cell_type": "code",
   "execution_count": 32,
   "metadata": {},
   "outputs": [
    {
     "name": "stdout",
     "output_type": "stream",
     "text": [
      "['2017', '2016']\n"
     ]
    }
   ],
   "source": [
    "import re\n",
    "str1 = \"2017 was a really good year, better than 2016\"\n",
    "print (re.findall('\\d+', str1 ))  #using '\\d+' to exctract only digits\n"
   ]
  },
  {
   "cell_type": "markdown",
   "metadata": {},
   "source": [
    "### Regex and filter\n",
    "\n",
    "https://stackoverflow.com/questions/3640359/regular-expressions-search-in-list"
   ]
  },
  {
   "cell_type": "code",
   "execution_count": 33,
   "metadata": {},
   "outputs": [
    {
     "name": "stdout",
     "output_type": "stream",
     "text": [
      "['cat', 'wildcat', 'thundercat']\n"
     ]
    }
   ],
   "source": [
    "import re\n",
    "mylist = [\"dog\", \"cat\", \"wildcat\", \"thundercat\", \"cow\", \"hooo\"]\n",
    "r = re.compile(\".*cat\")\n",
    "newlist = filter(r.match, mylist)\n",
    "print newlist #returns a list containing all instances of cat"
   ]
  },
  {
   "cell_type": "markdown",
   "metadata": {
    "collapsed": true
   },
   "source": [
    "## Most common elements in an iterable \n",
    "\n",
    "(collections.Counter)\n",
    "\n",
    "http://sahandsaba.com/thirty-python-language-features-and-tricks-you-may-not-know.html"
   ]
  },
  {
   "cell_type": "code",
   "execution_count": 34,
   "metadata": {},
   "outputs": [
    {
     "name": "stdout",
     "output_type": "stream",
     "text": [
      "Counter({3: 4, 1: 2, 2: 2, 4: 1, 5: 1, 6: 1, 7: 1})\n",
      "[(3, 4)]\n"
     ]
    }
   ],
   "source": [
    "import collections\n",
    "mylist = [1, 1, 2, 2, 3, 3, 3, 3, 4, 5, 6, 7]\n",
    "\n",
    "A = collections.Counter(mylist)\n",
    "print A #holds count for each element\n",
    "print A.most_common(1)  #most common"
   ]
  },
  {
   "cell_type": "code",
   "execution_count": null,
   "metadata": {
    "collapsed": true
   },
   "outputs": [],
   "source": []
  },
  {
   "cell_type": "code",
   "execution_count": null,
   "metadata": {
    "collapsed": true
   },
   "outputs": [],
   "source": []
  }
 ],
 "metadata": {
  "kernelspec": {
   "display_name": "Python 2",
   "language": "python",
   "name": "python2"
  },
  "language_info": {
   "codemirror_mode": {
    "name": "ipython",
    "version": 2
   },
   "file_extension": ".py",
   "mimetype": "text/x-python",
   "name": "python",
   "nbconvert_exporter": "python",
   "pygments_lexer": "ipython2",
   "version": "2.7.13"
  }
 },
 "nbformat": 4,
 "nbformat_minor": 2
}
